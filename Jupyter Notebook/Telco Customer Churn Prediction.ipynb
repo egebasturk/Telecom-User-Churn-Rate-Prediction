{
 "cells": [
  {
   "cell_type": "code",
   "execution_count": null,
   "metadata": {
    "collapsed": true
   },
   "outputs": [],
   "source": [
    "#Author: Buğra Aydın\n",
    "#Machine learning/Data processing introduction"
   ]
  },
  {
   "cell_type": "code",
   "execution_count": 58,
   "metadata": {},
   "outputs": [],
   "source": [
    "#Importing Libraries\n",
    "    #Data Processing Libraries\n",
    "import numpy as np\n",
    "import pandas as pd\n",
    "    #Visualization\n",
    "import matplotlib.pyplot as plt"
   ]
  },
  {
   "cell_type": "code",
   "execution_count": 59,
   "metadata": {},
   "outputs": [],
   "source": [
    "#Reading csv file\n",
    "dataset = pd.read_csv('telco-customer-churn.csv')"
   ]
  },
  {
   "cell_type": "code",
   "execution_count": 60,
   "metadata": {},
   "outputs": [
    {
     "data": {
      "text/html": [
       "<div>\n",
       "<style scoped>\n",
       "    .dataframe tbody tr th:only-of-type {\n",
       "        vertical-align: middle;\n",
       "    }\n",
       "\n",
       "    .dataframe tbody tr th {\n",
       "        vertical-align: top;\n",
       "    }\n",
       "\n",
       "    .dataframe thead th {\n",
       "        text-align: right;\n",
       "    }\n",
       "</style>\n",
       "<table border=\"1\" class=\"dataframe\">\n",
       "  <thead>\n",
       "    <tr style=\"text-align: right;\">\n",
       "      <th></th>\n",
       "      <th>customerID</th>\n",
       "      <th>gender</th>\n",
       "      <th>SeniorCitizen</th>\n",
       "      <th>Partner</th>\n",
       "      <th>Dependents</th>\n",
       "      <th>tenure</th>\n",
       "      <th>PhoneService</th>\n",
       "      <th>MultipleLines</th>\n",
       "      <th>InternetService</th>\n",
       "      <th>OnlineSecurity</th>\n",
       "      <th>...</th>\n",
       "      <th>DeviceProtection</th>\n",
       "      <th>TechSupport</th>\n",
       "      <th>StreamingTV</th>\n",
       "      <th>StreamingMovies</th>\n",
       "      <th>Contract</th>\n",
       "      <th>PaperlessBilling</th>\n",
       "      <th>PaymentMethod</th>\n",
       "      <th>MonthlyCharges</th>\n",
       "      <th>TotalCharges</th>\n",
       "      <th>Churn</th>\n",
       "    </tr>\n",
       "  </thead>\n",
       "  <tbody>\n",
       "    <tr>\n",
       "      <th>0</th>\n",
       "      <td>7590-VHVEG</td>\n",
       "      <td>Female</td>\n",
       "      <td>0</td>\n",
       "      <td>Yes</td>\n",
       "      <td>No</td>\n",
       "      <td>1</td>\n",
       "      <td>No</td>\n",
       "      <td>No phone service</td>\n",
       "      <td>DSL</td>\n",
       "      <td>No</td>\n",
       "      <td>...</td>\n",
       "      <td>No</td>\n",
       "      <td>No</td>\n",
       "      <td>No</td>\n",
       "      <td>No</td>\n",
       "      <td>Month-to-month</td>\n",
       "      <td>Yes</td>\n",
       "      <td>Electronic check</td>\n",
       "      <td>29.85</td>\n",
       "      <td>29.85</td>\n",
       "      <td>No</td>\n",
       "    </tr>\n",
       "    <tr>\n",
       "      <th>1</th>\n",
       "      <td>5575-GNVDE</td>\n",
       "      <td>Male</td>\n",
       "      <td>0</td>\n",
       "      <td>No</td>\n",
       "      <td>No</td>\n",
       "      <td>34</td>\n",
       "      <td>Yes</td>\n",
       "      <td>No</td>\n",
       "      <td>DSL</td>\n",
       "      <td>Yes</td>\n",
       "      <td>...</td>\n",
       "      <td>Yes</td>\n",
       "      <td>No</td>\n",
       "      <td>No</td>\n",
       "      <td>No</td>\n",
       "      <td>One year</td>\n",
       "      <td>No</td>\n",
       "      <td>Mailed check</td>\n",
       "      <td>56.95</td>\n",
       "      <td>1889.5</td>\n",
       "      <td>No</td>\n",
       "    </tr>\n",
       "    <tr>\n",
       "      <th>2</th>\n",
       "      <td>3668-QPYBK</td>\n",
       "      <td>Male</td>\n",
       "      <td>0</td>\n",
       "      <td>No</td>\n",
       "      <td>No</td>\n",
       "      <td>2</td>\n",
       "      <td>Yes</td>\n",
       "      <td>No</td>\n",
       "      <td>DSL</td>\n",
       "      <td>Yes</td>\n",
       "      <td>...</td>\n",
       "      <td>No</td>\n",
       "      <td>No</td>\n",
       "      <td>No</td>\n",
       "      <td>No</td>\n",
       "      <td>Month-to-month</td>\n",
       "      <td>Yes</td>\n",
       "      <td>Mailed check</td>\n",
       "      <td>53.85</td>\n",
       "      <td>108.15</td>\n",
       "      <td>Yes</td>\n",
       "    </tr>\n",
       "    <tr>\n",
       "      <th>3</th>\n",
       "      <td>7795-CFOCW</td>\n",
       "      <td>Male</td>\n",
       "      <td>0</td>\n",
       "      <td>No</td>\n",
       "      <td>No</td>\n",
       "      <td>45</td>\n",
       "      <td>No</td>\n",
       "      <td>No phone service</td>\n",
       "      <td>DSL</td>\n",
       "      <td>Yes</td>\n",
       "      <td>...</td>\n",
       "      <td>Yes</td>\n",
       "      <td>Yes</td>\n",
       "      <td>No</td>\n",
       "      <td>No</td>\n",
       "      <td>One year</td>\n",
       "      <td>No</td>\n",
       "      <td>Bank transfer (automatic)</td>\n",
       "      <td>42.30</td>\n",
       "      <td>1840.75</td>\n",
       "      <td>No</td>\n",
       "    </tr>\n",
       "    <tr>\n",
       "      <th>4</th>\n",
       "      <td>9237-HQITU</td>\n",
       "      <td>Female</td>\n",
       "      <td>0</td>\n",
       "      <td>No</td>\n",
       "      <td>No</td>\n",
       "      <td>2</td>\n",
       "      <td>Yes</td>\n",
       "      <td>No</td>\n",
       "      <td>Fiber optic</td>\n",
       "      <td>No</td>\n",
       "      <td>...</td>\n",
       "      <td>No</td>\n",
       "      <td>No</td>\n",
       "      <td>No</td>\n",
       "      <td>No</td>\n",
       "      <td>Month-to-month</td>\n",
       "      <td>Yes</td>\n",
       "      <td>Electronic check</td>\n",
       "      <td>70.70</td>\n",
       "      <td>151.65</td>\n",
       "      <td>Yes</td>\n",
       "    </tr>\n",
       "  </tbody>\n",
       "</table>\n",
       "<p>5 rows × 21 columns</p>\n",
       "</div>"
      ],
      "text/plain": [
       "   customerID  gender  SeniorCitizen Partner Dependents  tenure PhoneService  \\\n",
       "0  7590-VHVEG  Female              0     Yes         No       1           No   \n",
       "1  5575-GNVDE    Male              0      No         No      34          Yes   \n",
       "2  3668-QPYBK    Male              0      No         No       2          Yes   \n",
       "3  7795-CFOCW    Male              0      No         No      45           No   \n",
       "4  9237-HQITU  Female              0      No         No       2          Yes   \n",
       "\n",
       "      MultipleLines InternetService OnlineSecurity  ...  DeviceProtection  \\\n",
       "0  No phone service             DSL             No  ...                No   \n",
       "1                No             DSL            Yes  ...               Yes   \n",
       "2                No             DSL            Yes  ...                No   \n",
       "3  No phone service             DSL            Yes  ...               Yes   \n",
       "4                No     Fiber optic             No  ...                No   \n",
       "\n",
       "  TechSupport StreamingTV StreamingMovies        Contract PaperlessBilling  \\\n",
       "0          No          No              No  Month-to-month              Yes   \n",
       "1          No          No              No        One year               No   \n",
       "2          No          No              No  Month-to-month              Yes   \n",
       "3         Yes          No              No        One year               No   \n",
       "4          No          No              No  Month-to-month              Yes   \n",
       "\n",
       "               PaymentMethod MonthlyCharges  TotalCharges Churn  \n",
       "0           Electronic check          29.85         29.85    No  \n",
       "1               Mailed check          56.95        1889.5    No  \n",
       "2               Mailed check          53.85        108.15   Yes  \n",
       "3  Bank transfer (automatic)          42.30       1840.75    No  \n",
       "4           Electronic check          70.70        151.65   Yes  \n",
       "\n",
       "[5 rows x 21 columns]"
      ]
     },
     "execution_count": 60,
     "metadata": {},
     "output_type": "execute_result"
    }
   ],
   "source": [
    "#Displaying a subset of data\n",
    "dataset.head(5)"
   ]
  },
  {
   "cell_type": "code",
   "execution_count": 61,
   "metadata": {},
   "outputs": [
    {
     "data": {
      "text/plain": [
       "customerID           object\n",
       "gender               object\n",
       "SeniorCitizen         int64\n",
       "Partner              object\n",
       "Dependents           object\n",
       "tenure                int64\n",
       "PhoneService         object\n",
       "MultipleLines        object\n",
       "InternetService      object\n",
       "OnlineSecurity       object\n",
       "OnlineBackup         object\n",
       "DeviceProtection     object\n",
       "TechSupport          object\n",
       "StreamingTV          object\n",
       "StreamingMovies      object\n",
       "Contract             object\n",
       "PaperlessBilling     object\n",
       "PaymentMethod        object\n",
       "MonthlyCharges      float64\n",
       "TotalCharges         object\n",
       "Churn                object\n",
       "dtype: object"
      ]
     },
     "execution_count": 61,
     "metadata": {},
     "output_type": "execute_result"
    }
   ],
   "source": [
    "dataset.dtypes"
   ]
  },
  {
   "cell_type": "code",
   "execution_count": 70,
   "metadata": {},
   "outputs": [],
   "source": [
    "#Dropping the target attribute from the dataset and making it equal to X\n",
    "#Target attribute created as y\n",
    "X = dataset.drop(columns=['customerID', 'Churn'])\n",
    "y = dataset[['Churn']]"
   ]
  },
  {
   "cell_type": "code",
   "execution_count": 71,
   "metadata": {},
   "outputs": [
    {
     "name": "stderr",
     "output_type": "stream",
     "text": [
      "C:\\Users\\Bugra\\Anaconda\\envs\\py36\\lib\\site-packages\\ipykernel_launcher.py:4: SettingWithCopyWarning: \n",
      "A value is trying to be set on a copy of a slice from a DataFrame.\n",
      "Try using .loc[row_indexer,col_indexer] = value instead\n",
      "\n",
      "See the caveats in the documentation: http://pandas.pydata.org/pandas-docs/stable/indexing.html#indexing-view-versus-copy\n",
      "  after removing the cwd from sys.path.\n"
     ]
    }
   ],
   "source": [
    "#Need to encode non-numerical data\n",
    "from sklearn.preprocessing import LabelEncoder\n",
    "lb_coder = LabelEncoder()\n",
    "y['Churn'] = lb_coder.fit_transform(y['Churn'])\n",
    "for i in range (len(X.iloc[0])):\n",
    "    if X.iloc[:,i].dtype == object:\n",
    "        X.iloc[:,i] = lb_coder.fit_transform(X.iloc[:,i])"
   ]
  },
  {
   "cell_type": "code",
   "execution_count": 72,
   "metadata": {},
   "outputs": [],
   "source": [
    "#Splitting the data into train/test sets\n",
    "    #Importing the corresponding function\n",
    "from sklearn.cross_validation import train_test_split\n",
    "X_train, X_test, y_train, y_test = train_test_split(X, y, test_size=0.2)"
   ]
  },
  {
   "cell_type": "code",
   "execution_count": 74,
   "metadata": {},
   "outputs": [],
   "source": [
    "#Standard Scaling\n",
    "from sklearn.preprocessing import StandardScaler\n",
    "scaler = StandardScaler()\n",
    "X_train = scaler.fit_transform(X_train)\n",
    "X_test = scaler.fit_transform(X_test)"
   ]
  },
  {
   "cell_type": "code",
   "execution_count": 75,
   "metadata": {},
   "outputs": [
    {
     "name": "stdout",
     "output_type": "stream",
     "text": [
      "Accuracy of Decision Tree Classificatier on Training Set: 0.86670217\n",
      "Accuracy of Decision Tree Classificatier on Test Set: 0.76792051\n"
     ]
    }
   ],
   "source": [
    "#Decision Tree Classification\n",
    "from sklearn import tree\n",
    "dtc = tree.DecisionTreeClassifier(max_leaf_nodes=200) #max_leaf_nodes parametresi\n",
    "dtc.fit(X_train, y_train)\n",
    "#Printing Accuracy \n",
    "print('Accuracy of Decision Tree Classificatier on Training Set: {:.8f}'\n",
    "     .format(dtc.score(X_train, y_train)))\n",
    "print('Accuracy of Decision Tree Classificatier on Test Set: {:.8f}'\n",
    "     .format(dtc.score(X_test, y_test)))"
   ]
  },
  {
   "cell_type": "code",
   "execution_count": 76,
   "metadata": {},
   "outputs": [
    {
     "name": "stderr",
     "output_type": "stream",
     "text": [
      "C:\\Users\\Bugra\\Anaconda\\envs\\py36\\lib\\site-packages\\ipykernel_launcher.py:4: DataConversionWarning: A column-vector y was passed when a 1d array was expected. Please change the shape of y to (n_samples, ), for example using ravel().\n",
      "  after removing the cwd from sys.path.\n"
     ]
    },
    {
     "name": "stdout",
     "output_type": "stream",
     "text": [
      "Accuracy of KNN Classificatier on Training Set: 0.86474973\n",
      "Accuracy of KNN Classificatier on Test Set: 0.73101490\n"
     ]
    }
   ],
   "source": [
    "#KNN\n",
    "from sklearn.neighbors import KNeighborsClassifier\n",
    "knn_c = KNeighborsClassifier(n_neighbors=3) # Parameter to be changed\n",
    "knn_c.fit(X_train, y_train)\n",
    "#Printing Accuracy \n",
    "print('Accuracy of KNN Classificatier on Training Set: {:.8f}'\n",
    "     .format(knn_c.score(X_train, y_train)))\n",
    "print('Accuracy of KNN Classificatier on Test Set: {:.8f}'\n",
    "     .format(knn_c.score(X_test, y_test)))"
   ]
  },
  {
   "cell_type": "code",
   "execution_count": 77,
   "metadata": {},
   "outputs": [
    {
     "name": "stdout",
     "output_type": "stream",
     "text": [
      "Accuracy of Logistic Regression on Training Set: 0.80706425\n",
      "Accuracy of Logistic Regression on Test Set: 0.79985806\n"
     ]
    },
    {
     "name": "stderr",
     "output_type": "stream",
     "text": [
      "C:\\Users\\Bugra\\Anaconda\\envs\\py36\\lib\\site-packages\\sklearn\\utils\\validation.py:578: DataConversionWarning: A column-vector y was passed when a 1d array was expected. Please change the shape of y to (n_samples, ), for example using ravel().\n",
      "  y = column_or_1d(y, warn=True)\n"
     ]
    }
   ],
   "source": [
    "#Logistic Regression\n",
    "from sklearn.linear_model import LogisticRegression\n",
    "logistic_regressor = LogisticRegression()\n",
    "logistic_regressor.fit(X_train, y_train)\n",
    "#Printing Accuracy \n",
    "print('Accuracy of Logistic Regression on Training Set: {:.8f}'\n",
    "     .format(logistic_regressor.score(X_train, y_train)))\n",
    "print('Accuracy of Logistic Regression on Test Set: {:.8f}'\n",
    "     .format(logistic_regressor.score(X_test, y_test)))"
   ]
  },
  {
   "cell_type": "code",
   "execution_count": 78,
   "metadata": {},
   "outputs": [
    {
     "name": "stderr",
     "output_type": "stream",
     "text": [
      "Using TensorFlow backend.\n"
     ]
    },
    {
     "name": "stdout",
     "output_type": "stream",
     "text": [
      "Epoch 1/100\n",
      "5634/5634 [==============================] - 2s 365us/step - loss: 0.4750 - acc: 0.7671\n",
      "Epoch 2/100\n",
      "5634/5634 [==============================] - 1s 144us/step - loss: 0.4230 - acc: 0.7993\n",
      "Epoch 3/100\n",
      "5634/5634 [==============================] - 1s 145us/step - loss: 0.4134 - acc: 0.8056\n",
      "Epoch 4/100\n",
      "5634/5634 [==============================] - 1s 151us/step - loss: 0.4083 - acc: 0.8072\n",
      "Epoch 5/100\n",
      "5634/5634 [==============================] - 1s 144us/step - loss: 0.4047 - acc: 0.8072\n",
      "Epoch 6/100\n",
      "5634/5634 [==============================] - 1s 143us/step - loss: 0.4017 - acc: 0.8103\n",
      "Epoch 7/100\n",
      "5634/5634 [==============================] - 1s 144us/step - loss: 0.3994 - acc: 0.8111\n",
      "Epoch 8/100\n",
      "5634/5634 [==============================] - 1s 146us/step - loss: 0.3980 - acc: 0.8136\n",
      "Epoch 9/100\n",
      "5634/5634 [==============================] - 1s 142us/step - loss: 0.3957 - acc: 0.8136\n",
      "Epoch 10/100\n",
      "5634/5634 [==============================] - 1s 146us/step - loss: 0.3951 - acc: 0.8120\n",
      "Epoch 11/100\n",
      "5634/5634 [==============================] - 1s 150us/step - loss: 0.3923 - acc: 0.8154\n",
      "Epoch 12/100\n",
      "5634/5634 [==============================] - 1s 145us/step - loss: 0.3917 - acc: 0.8182\n",
      "Epoch 13/100\n",
      "5634/5634 [==============================] - 1s 143us/step - loss: 0.3902 - acc: 0.8145\n",
      "Epoch 14/100\n",
      "5634/5634 [==============================] - 1s 144us/step - loss: 0.3889 - acc: 0.8193\n",
      "Epoch 15/100\n",
      "5634/5634 [==============================] - 1s 147us/step - loss: 0.3877 - acc: 0.8191\n",
      "Epoch 16/100\n",
      "5634/5634 [==============================] - 1s 142us/step - loss: 0.3866 - acc: 0.8190\n",
      "Epoch 17/100\n",
      "5634/5634 [==============================] - 1s 145us/step - loss: 0.3849 - acc: 0.8222\n",
      "Epoch 18/100\n",
      "5634/5634 [==============================] - 1s 142us/step - loss: 0.3835 - acc: 0.8227\n",
      "Epoch 19/100\n",
      "5634/5634 [==============================] - 1s 145us/step - loss: 0.3836 - acc: 0.8220\n",
      "Epoch 20/100\n",
      "5634/5634 [==============================] - 1s 144us/step - loss: 0.3817 - acc: 0.8204\n",
      "Epoch 21/100\n",
      "5634/5634 [==============================] - 1s 144us/step - loss: 0.3812 - acc: 0.8248\n",
      "Epoch 22/100\n",
      "5634/5634 [==============================] - 1s 146us/step - loss: 0.3805 - acc: 0.8237\n",
      "Epoch 23/100\n",
      "5634/5634 [==============================] - 1s 145us/step - loss: 0.3796 - acc: 0.8271\n",
      "Epoch 24/100\n",
      "5634/5634 [==============================] - 1s 144us/step - loss: 0.3784 - acc: 0.8269\n",
      "Epoch 25/100\n",
      "5634/5634 [==============================] - 1s 144us/step - loss: 0.3787 - acc: 0.8261\n",
      "Epoch 26/100\n",
      "5634/5634 [==============================] - 1s 146us/step - loss: 0.3774 - acc: 0.8282\n",
      "Epoch 27/100\n",
      "5634/5634 [==============================] - 1s 148us/step - loss: 0.3769 - acc: 0.8285\n",
      "Epoch 28/100\n",
      "5634/5634 [==============================] - 1s 146us/step - loss: 0.3763 - acc: 0.8268\n",
      "Epoch 29/100\n",
      "5634/5634 [==============================] - 1s 144us/step - loss: 0.3753 - acc: 0.8253\n",
      "Epoch 30/100\n",
      "5634/5634 [==============================] - 1s 146us/step - loss: 0.3748 - acc: 0.8293\n",
      "Epoch 31/100\n",
      "5634/5634 [==============================] - 1s 143us/step - loss: 0.3739 - acc: 0.8277\n",
      "Epoch 32/100\n",
      "5634/5634 [==============================] - 1s 143us/step - loss: 0.3732 - acc: 0.8285\n",
      "Epoch 33/100\n",
      "5634/5634 [==============================] - 1s 142us/step - loss: 0.3733 - acc: 0.8287\n",
      "Epoch 34/100\n",
      "5634/5634 [==============================] - 1s 142us/step - loss: 0.3710 - acc: 0.8257\n",
      "Epoch 35/100\n",
      "5634/5634 [==============================] - 1s 149us/step - loss: 0.3719 - acc: 0.8282\n",
      "Epoch 36/100\n",
      "5634/5634 [==============================] - 1s 145us/step - loss: 0.3709 - acc: 0.8307\n",
      "Epoch 37/100\n",
      "5634/5634 [==============================] - 1s 144us/step - loss: 0.3691 - acc: 0.8308\n",
      "Epoch 38/100\n",
      "5634/5634 [==============================] - 1s 142us/step - loss: 0.3699 - acc: 0.8296\n",
      "Epoch 39/100\n",
      "5634/5634 [==============================] - 1s 144us/step - loss: 0.3692 - acc: 0.8298\n",
      "Epoch 40/100\n",
      "5634/5634 [==============================] - 1s 142us/step - loss: 0.3685 - acc: 0.8266\n",
      "Epoch 41/100\n",
      "5634/5634 [==============================] - 1s 142us/step - loss: 0.3678 - acc: 0.8275\n",
      "Epoch 42/100\n",
      "5634/5634 [==============================] - 1s 142us/step - loss: 0.3678 - acc: 0.8278\n",
      "Epoch 43/100\n",
      "5634/5634 [==============================] - 1s 142us/step - loss: 0.3669 - acc: 0.8282\n",
      "Epoch 44/100\n",
      "5634/5634 [==============================] - 1s 142us/step - loss: 0.3658 - acc: 0.8298\n",
      "Epoch 45/100\n",
      "5634/5634 [==============================] - 1s 145us/step - loss: 0.3653 - acc: 0.8308\n",
      "Epoch 46/100\n",
      "5634/5634 [==============================] - 1s 146us/step - loss: 0.3655 - acc: 0.8332\n",
      "Epoch 47/100\n",
      "5634/5634 [==============================] - 1s 144us/step - loss: 0.3655 - acc: 0.8312\n",
      "Epoch 48/100\n",
      "5634/5634 [==============================] - 1s 146us/step - loss: 0.3649 - acc: 0.8316\n",
      "Epoch 49/100\n",
      "5634/5634 [==============================] - 1s 144us/step - loss: 0.3645 - acc: 0.8291\n",
      "Epoch 50/100\n",
      "5634/5634 [==============================] - 1s 144us/step - loss: 0.3637 - acc: 0.8289\n",
      "Epoch 51/100\n",
      "5634/5634 [==============================] - 1s 150us/step - loss: 0.3637 - acc: 0.8308\n",
      "Epoch 52/100\n",
      "5634/5634 [==============================] - 1s 167us/step - loss: 0.3630 - acc: 0.8294\n",
      "Epoch 53/100\n",
      "5634/5634 [==============================] - 1s 183us/step - loss: 0.3631 - acc: 0.8310\n",
      "Epoch 54/100\n",
      "5634/5634 [==============================] - 1s 176us/step - loss: 0.3617 - acc: 0.8296\n",
      "Epoch 55/100\n",
      "5634/5634 [==============================] - 1s 179us/step - loss: 0.3623 - acc: 0.8316\n",
      "Epoch 56/100\n",
      "5634/5634 [==============================] - 1s 178us/step - loss: 0.3630 - acc: 0.8301\n",
      "Epoch 57/100\n",
      "5634/5634 [==============================] - 1s 176us/step - loss: 0.3612 - acc: 0.8328\n",
      "Epoch 58/100\n",
      "5634/5634 [==============================] - 1s 168us/step - loss: 0.3613 - acc: 0.8303\n",
      "Epoch 59/100\n",
      "5634/5634 [==============================] - 1s 173us/step - loss: 0.3606 - acc: 0.8319\n",
      "Epoch 60/100\n",
      "5634/5634 [==============================] - 1s 168us/step - loss: 0.3601 - acc: 0.8312\n",
      "Epoch 61/100\n",
      "5634/5634 [==============================] - 1s 168us/step - loss: 0.3606 - acc: 0.8349\n",
      "Epoch 62/100\n",
      "5634/5634 [==============================] - 1s 171us/step - loss: 0.3592 - acc: 0.8340\n",
      "Epoch 63/100\n",
      "5634/5634 [==============================] - 1s 176us/step - loss: 0.3577 - acc: 0.8344\n",
      "Epoch 64/100\n",
      "5634/5634 [==============================] - 1s 170us/step - loss: 0.3587 - acc: 0.8333\n",
      "Epoch 65/100\n",
      "5634/5634 [==============================] - 1s 173us/step - loss: 0.3576 - acc: 0.8333\n",
      "Epoch 66/100\n",
      "5634/5634 [==============================] - 1s 176us/step - loss: 0.3570 - acc: 0.8353\n",
      "Epoch 67/100\n",
      "5634/5634 [==============================] - 1s 180us/step - loss: 0.3575 - acc: 0.8367\n",
      "Epoch 68/100\n",
      "5634/5634 [==============================] - 1s 177us/step - loss: 0.3566 - acc: 0.8356\n",
      "Epoch 69/100\n",
      "5634/5634 [==============================] - 1s 169us/step - loss: 0.3570 - acc: 0.8340\n",
      "Epoch 70/100\n",
      "5634/5634 [==============================] - 1s 170us/step - loss: 0.3569 - acc: 0.8346\n",
      "Epoch 71/100\n",
      "5634/5634 [==============================] - 1s 169us/step - loss: 0.3556 - acc: 0.8362\n",
      "Epoch 72/100\n",
      "5634/5634 [==============================] - 1s 177us/step - loss: 0.3551 - acc: 0.8340\n",
      "Epoch 73/100\n",
      "5634/5634 [==============================] - 1s 171us/step - loss: 0.3554 - acc: 0.8321\n",
      "Epoch 74/100\n",
      "5634/5634 [==============================] - 1s 171us/step - loss: 0.3549 - acc: 0.8335\n",
      "Epoch 75/100\n",
      "5634/5634 [==============================] - 1s 174us/step - loss: 0.3552 - acc: 0.8319\n",
      "Epoch 76/100\n",
      "5634/5634 [==============================] - 1s 173us/step - loss: 0.3544 - acc: 0.8374\n",
      "Epoch 77/100\n",
      "5634/5634 [==============================] - 1s 171us/step - loss: 0.3546 - acc: 0.8348\n",
      "Epoch 78/100\n",
      "5634/5634 [==============================] - 1s 172us/step - loss: 0.3541 - acc: 0.8351\n",
      "Epoch 79/100\n",
      "5634/5634 [==============================] - 1s 171us/step - loss: 0.3550 - acc: 0.8356\n",
      "Epoch 80/100\n",
      "5634/5634 [==============================] - 1s 178us/step - loss: 0.3537 - acc: 0.8374\n",
      "Epoch 81/100\n",
      "5634/5634 [==============================] - 1s 177us/step - loss: 0.3539 - acc: 0.8328\n",
      "Epoch 82/100\n",
      "5634/5634 [==============================] - 1s 172us/step - loss: 0.3522 - acc: 0.8388\n",
      "Epoch 83/100\n",
      "5634/5634 [==============================] - 1s 176us/step - loss: 0.3529 - acc: 0.8349\n",
      "Epoch 84/100\n",
      "5634/5634 [==============================] - 1s 169us/step - loss: 0.3521 - acc: 0.8353\n",
      "Epoch 85/100\n",
      "5634/5634 [==============================] - 1s 166us/step - loss: 0.3511 - acc: 0.8388\n",
      "Epoch 86/100\n",
      "5634/5634 [==============================] - 1s 165us/step - loss: 0.3509 - acc: 0.8372\n",
      "Epoch 87/100\n",
      "5634/5634 [==============================] - 1s 167us/step - loss: 0.3512 - acc: 0.8372\n",
      "Epoch 88/100\n",
      "5634/5634 [==============================] - 1s 170us/step - loss: 0.3506 - acc: 0.8394\n",
      "Epoch 89/100\n",
      "5634/5634 [==============================] - 1s 171us/step - loss: 0.3514 - acc: 0.8351\n",
      "Epoch 90/100\n",
      "5634/5634 [==============================] - 1s 171us/step - loss: 0.3497 - acc: 0.8394\n",
      "Epoch 91/100\n",
      "5634/5634 [==============================] - 1s 174us/step - loss: 0.3502 - acc: 0.8365\n",
      "Epoch 92/100\n",
      "5634/5634 [==============================] - 1s 176us/step - loss: 0.3496 - acc: 0.8385\n",
      "Epoch 93/100\n",
      "5634/5634 [==============================] - 1s 177us/step - loss: 0.3492 - acc: 0.8385\n",
      "Epoch 94/100\n",
      "5634/5634 [==============================] - 1s 169us/step - loss: 0.3480 - acc: 0.8362\n",
      "Epoch 95/100\n",
      "5634/5634 [==============================] - 1s 169us/step - loss: 0.3484 - acc: 0.8360\n",
      "Epoch 96/100\n",
      "5634/5634 [==============================] - 1s 175us/step - loss: 0.3483 - acc: 0.8392\n",
      "Epoch 97/100\n",
      "5634/5634 [==============================] - 1s 169us/step - loss: 0.3457 - acc: 0.8424\n",
      "Epoch 98/100\n",
      "5634/5634 [==============================] - 1s 171us/step - loss: 0.3480 - acc: 0.8376\n",
      "Epoch 99/100\n",
      "5634/5634 [==============================] - 1s 168us/step - loss: 0.3476 - acc: 0.8406\n",
      "Epoch 100/100\n",
      "5634/5634 [==============================] - 1s 173us/step - loss: 0.3481 - acc: 0.8395\n"
     ]
    },
    {
     "data": {
      "text/plain": [
       "<keras.callbacks.History at 0xb09796a7b8>"
      ]
     },
     "execution_count": 78,
     "metadata": {},
     "output_type": "execute_result"
    }
   ],
   "source": [
    "#Neural Net\n",
    "from keras.models import Sequential\n",
    "from keras.layers import Dense\n",
    "model = Sequential()\n",
    "model.add(Dense(20, input_dim=19, activation='relu'))\n",
    "model.add(Dense(5, activation='relu'))\n",
    "model.add(Dense(1,activation='sigmoid'))\n",
    "model.compile(loss='binary_crossentropy', optimizer='adam', metrics=['accuracy'])\n",
    "model.fit(X_train, y_train, epochs=100, batch_size=5)"
   ]
  },
  {
   "cell_type": "code",
   "execution_count": 80,
   "metadata": {},
   "outputs": [
    {
     "name": "stdout",
     "output_type": "stream",
     "text": [
      "Accuracy of RFC Regression on Training Set: 0.98207313\n",
      "Accuracy of RFC Regression on Test Set: 0.77075940\n"
     ]
    },
    {
     "name": "stderr",
     "output_type": "stream",
     "text": [
      "C:\\Users\\Bugra\\Anaconda\\envs\\py36\\lib\\site-packages\\ipykernel_launcher.py:3: DataConversionWarning: A column-vector y was passed when a 1d array was expected. Please change the shape of y to (n_samples,), for example using ravel().\n",
      "  This is separate from the ipykernel package so we can avoid doing imports until\n"
     ]
    }
   ],
   "source": [
    "from sklearn.ensemble import RandomForestClassifier\n",
    "rfc = RandomForestClassifier(n_estimators=10) #Parameters to be changed\n",
    "rfc.fit(X_train,y_train)\n",
    "#Printing Accuracy \n",
    "print('Accuracy of RFC on Training Set: {:.8f}'\n",
    "     .format(rfc.score(X_train, y_train)))\n",
    "print('Accuracy of RFC on Test Set: {:.8f}'\n",
    "     .format(rfc.score(X_test, y_test)))"
   ]
  },
  {
   "cell_type": "code",
   "execution_count": 81,
   "metadata": {},
   "outputs": [
    {
     "name": "stderr",
     "output_type": "stream",
     "text": [
      "C:\\Users\\Bugra\\Anaconda\\envs\\py36\\lib\\site-packages\\sklearn\\utils\\validation.py:578: DataConversionWarning: A column-vector y was passed when a 1d array was expected. Please change the shape of y to (n_samples, ), for example using ravel().\n",
      "  y = column_or_1d(y, warn=True)\n"
     ]
    },
    {
     "name": "stdout",
     "output_type": "stream",
     "text": [
      "Accuracy of SVC on Training Set: 0.80209443\n",
      "Accuracy of SVC on Test Set: 0.79205110\n"
     ]
    }
   ],
   "source": [
    "from sklearn.svm import SVC\n",
    "svc = SVC(kernel='linear')\n",
    "svc.fit(X_train,y_train)\n",
    "print('Accuracy of SVC on Training Set: {:.8f}'\n",
    "     .format(svc.score(X_train, y_train)))\n",
    "print('Accuracy of SVC on Test Set: {:.8f}'\n",
    "     .format(svc.score(X_test, y_test)))"
   ]
  }
 ],
 "metadata": {
  "kernelspec": {
   "display_name": "Python 3",
   "language": "python",
   "name": "python3"
  },
  "language_info": {
   "codemirror_mode": {
    "name": "ipython",
    "version": 3
   },
   "file_extension": ".py",
   "mimetype": "text/x-python",
   "name": "python",
   "nbconvert_exporter": "python",
   "pygments_lexer": "ipython3",
   "version": "3.6.6"
  }
 },
 "nbformat": 4,
 "nbformat_minor": 2
}
