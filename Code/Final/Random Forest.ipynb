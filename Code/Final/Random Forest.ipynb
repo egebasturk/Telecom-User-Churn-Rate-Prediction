{
 "cells": [
  {
   "cell_type": "code",
   "execution_count": 352,
   "metadata": {},
   "outputs": [],
   "source": [
    "import numpy as np\n",
    "#from keras.models import Sequential\n",
    "#from keras.layers import Dense\n",
    "import pandas as pa\n",
    "import matplotlib.pyplot as plt\n",
    "from sklearn.model_selection import train_test_split\n",
    "from sklearn.preprocessing import StandardScaler\n",
    "from sklearn.model_selection import KFold\n",
    "from sklearn.ensemble import RandomForestClassifier\n",
    "from sklearn.metrics import average_precision_score\n",
    "from sklearn.metrics import r2_score\n",
    "from collections import defaultdict\n",
    "from sklearn.metrics import confusion_matrix\n",
    "from sklearn import metrics\n",
    "from sklearn.metrics import precision_recall_curve\n",
    "from sklearn.utils.fixes import signature\n",
    "from sklearn.metrics import roc_curve\n",
    "from sklearn.metrics import roc_auc_score\n",
    "from sklearn.metrics import precision_recall_curve\n",
    "from sklearn.metrics import f1_score\n",
    "from sklearn.metrics import auc\n",
    "from sklearn.metrics import average_precision_score"
   ]
  },
  {
   "cell_type": "code",
   "execution_count": 64,
   "metadata": {},
   "outputs": [
    {
     "name": "stderr",
     "output_type": "stream",
     "text": [
      "C:\\Users\\Bugra\\Anaconda\\lib\\site-packages\\ipykernel_launcher.py:10: SettingWithCopyWarning: \n",
      "A value is trying to be set on a copy of a slice from a DataFrame.\n",
      "Try using .loc[row_indexer,col_indexer] = value instead\n",
      "\n",
      "See the caveats in the documentation: http://pandas.pydata.org/pandas-docs/stable/indexing.html#indexing-view-versus-copy\n",
      "  # Remove the CWD from sys.path while we load stuff.\n"
     ]
    }
   ],
   "source": [
    "#Reading csv file\n",
    "dataset = pa.read_csv(\"Data/telco-customer-churn/WA_Fn-UseC_-Telco-Customer-Churn.csv\")\n",
    "#Dropping the target attribute from the dataset and making it equal to X\n",
    "#Target attribute created as y\n",
    "X = dataset.drop(columns=['customerID', 'Churn'])\n",
    "y    = dataset[['Churn']]\n",
    "#Need to encode non-numerical data\n",
    "from sklearn.preprocessing import LabelEncoder\n",
    "lb_coder = LabelEncoder()\n",
    "y['Churn'] = lb_coder.fit_transform(y['Churn'])\n",
    "for i in range (len(X.iloc[0])):\n",
    "    if X.iloc[:,i].dtype == object:\n",
    "        X.iloc[:,i] = lb_coder.fit_transform(X.iloc[:,i])"
   ]
  },
  {
   "cell_type": "code",
   "execution_count": 127,
   "metadata": {},
   "outputs": [],
   "source": [
    "column_names = dataset.columns"
   ]
  },
  {
   "cell_type": "code",
   "execution_count": 65,
   "metadata": {},
   "outputs": [],
   "source": [
    "#parameters\n",
    "n_of_trees =         [1, 5, 10, 100]\n",
    "max_leaf_nodes =     [10, 100, 1000, None]\n",
    "max_dep =            [1, 10, 100, None]\n",
    "min_samples_req =    [1, 2, 5, 10]"
   ]
  },
  {
   "cell_type": "code",
   "execution_count": 66,
   "metadata": {},
   "outputs": [],
   "source": [
    "def split_data(ratio):\n",
    "    #Splitting the data into train/test sets\n",
    "        #Importing the corresponding function\n",
    "    from sklearn.model_selection import train_test_split\n",
    "    X_train, X_test, y_train, y_test = train_test_split(X, y, test_size=ratio)\n",
    "    # Feature scaling. Needed since features vary currently a lot\n",
    "    scaler = StandardScaler()\n",
    "    X_train = scaler.fit_transform(X_train)\n",
    "    X_test = scaler.fit_transform(X_test)\n",
    "    y_train = y_train.values.ravel()\n",
    "    y_test = y_test.values.ravel()\n",
    "    return X_train, X_test, y_train, y_test"
   ]
  },
  {
   "cell_type": "code",
   "execution_count": 98,
   "metadata": {},
   "outputs": [],
   "source": [
    "def test_out_split_size(number_of_trees, max_node, max_dep, samp_req):\n",
    "    accs = []\n",
    "    sizes = [0.1, 0.2, 0.3, 0.4, 0.5, 0.6, 0.7, 0.8, 0.9]\n",
    "    clf = RandomForestClassifier(n_estimators=number_of_trees, max_depth=max_dep, min_samples_leaf=samp_req, max_leaf_nodes=max_node)\n",
    "\n",
    "    for i in range (len(sizes)):\n",
    "        X_train, X_test, y_train, y_test = split_data(sizes[i])\n",
    "        model = clf.fit(X_train, y_train)\n",
    "        accs.append(model.score(X_test, y_test))\n",
    "    return accs ,sizes[accs.index(max(accs))]"
   ]
  },
  {
   "cell_type": "code",
   "execution_count": 68,
   "metadata": {},
   "outputs": [],
   "source": [
    "#5 fold cross validation object\n",
    "kf = KFold(n_splits=5)"
   ]
  },
  {
   "cell_type": "code",
   "execution_count": 69,
   "metadata": {},
   "outputs": [],
   "source": [
    "def test_out_current_params(X_train, X_test, y_train, y_test, tree_amount, max_leaf, max_dep, min_samples):\n",
    "    clf = RandomForestClassifier(n_estimators=tree_amount, max_depth=max_dep, min_samples_leaf=min_samples, max_leaf_nodes=max_leaf)\n",
    "    acc = 0\n",
    "    for train_index, test_index in kf.split(X_train):\n",
    "        Xk_train, Xk_test = X_train[train_index], X_train[test_index]\n",
    "        yk_train, yk_test = y_train[train_index], y_train[test_index]\n",
    "        model = clf.fit(Xk_train, yk_train)\n",
    "        curr_acc = model.score(Xk_test, yk_test)\n",
    "        acc = acc + curr_acc\n",
    "    #predictions = clf.predict(X_test)\n",
    "    return acc / 5"
   ]
  },
  {
   "cell_type": "code",
   "execution_count": 248,
   "metadata": {},
   "outputs": [],
   "source": [
    "def test_and_print_best():\n",
    "    max_acc = 0\n",
    "    max_n_of_trees = 0\n",
    "    max_max_leaf_nodes = 0\n",
    "    max_max_dep = 0\n",
    "    max_min_samples_req = 0\n",
    "    X_train, X_test, y_train, y_test = split_data(0.3)\n",
    "    for j in range(len(n_of_trees)):\n",
    "        for k in range(len(max_leaf_nodes)):\n",
    "            for m in range(len(max_dep)):\n",
    "                for n in range(len(min_samples_req)):\n",
    "                    acc = test_out_current_params(X_train, X_test, y_train, y_test, n_of_trees[j], max_leaf_nodes[k], max_dep[m], min_samples_req[n])\n",
    "                    if max_acc < acc:\n",
    "                        max_acc = acc\n",
    "                        max_n_of_trees = n_of_trees[j]\n",
    "                        max_max_leaf_nodes = max_leaf_nodes[k]\n",
    "                        max_max_dep = max_dep[m]\n",
    "                        max_min_samples_req = min_samples_req[n]\n",
    "                    print(\"Acc: \",acc ,\" ~ Tr#: \", n_of_trees[j] , \" ~ MaxLN: \", max_leaf_nodes[k],\" ~ MaxD: \", max_dep[m],\" ~ MinSR: \", min_samples_req[n])\n",
    "    print(\"Max Acc: \",max_acc ,\" ~ Tr#: \", max_n_of_trees , \" ~ MaxLN: \", max_max_leaf_nodes,\" ~ MaxD: \", max_max_dep,\" ~ MinSR: \", max_min_samples_req)\n",
    "    return max_acc, max_n_of_trees, max_max_leaf_nodes, max_max_dep, max_min_samples_req"
   ]
  },
  {
   "cell_type": "code",
   "execution_count": 72,
   "metadata": {},
   "outputs": [
    {
     "name": "stdout",
     "output_type": "stream",
     "text": [
      "Acc:  0.7546905508736128  ~ Tr#:  1  ~ MaxLN:  10  ~ MaxD:  1  ~ MinSR:  1\n",
      "Acc:  0.7557745361097464  ~ Tr#:  1  ~ MaxLN:  10  ~ MaxD:  1  ~ MinSR:  2\n",
      "Acc:  0.738018215486943  ~ Tr#:  1  ~ MaxLN:  10  ~ MaxD:  1  ~ MinSR:  5\n",
      "Acc:  0.7468891324338964  ~ Tr#:  1  ~ MaxLN:  10  ~ MaxD:  1  ~ MinSR:  10\n",
      "Acc:  0.768541123414333  ~ Tr#:  1  ~ MaxLN:  10  ~ MaxD:  10  ~ MinSR:  1\n",
      "Acc:  0.769975939432876  ~ Tr#:  1  ~ MaxLN:  10  ~ MaxD:  10  ~ MinSR:  2\n",
      "Acc:  0.7742362974440372  ~ Tr#:  1  ~ MaxLN:  10  ~ MaxD:  10  ~ MinSR:  5\n",
      "Acc:  0.7617966063262915  ~ Tr#:  1  ~ MaxLN:  10  ~ MaxD:  10  ~ MinSR:  10\n",
      "Acc:  0.767482962347102  ~ Tr#:  1  ~ MaxLN:  10  ~ MaxD:  100  ~ MinSR:  1\n",
      "Acc:  0.7905496138971819  ~ Tr#:  1  ~ MaxLN:  10  ~ MaxD:  100  ~ MinSR:  2\n",
      "Acc:  0.7671252031291333  ~ Tr#:  1  ~ MaxLN:  10  ~ MaxD:  100  ~ MinSR:  5\n",
      "Acc:  0.7703141730597232  ~ Tr#:  1  ~ MaxLN:  10  ~ MaxD:  100  ~ MinSR:  10\n",
      "Acc:  0.7859321265258304  ~ Tr#:  1  ~ MaxLN:  10  ~ MaxD:  None  ~ MinSR:  1\n",
      "Acc:  0.7713899701447413  ~ Tr#:  1  ~ MaxLN:  10  ~ MaxD:  None  ~ MinSR:  2\n",
      "Acc:  0.7625190531977879  ~ Tr#:  1  ~ MaxLN:  10  ~ MaxD:  None  ~ MinSR:  5\n",
      "Acc:  0.7770649887255457  ~ Tr#:  1  ~ MaxLN:  10  ~ MaxD:  None  ~ MinSR:  10\n",
      "Acc:  0.7405017447060454  ~ Tr#:  1  ~ MaxLN:  100  ~ MaxD:  1  ~ MinSR:  1\n",
      "Acc:  0.7433316957031103  ~ Tr#:  1  ~ MaxLN:  100  ~ MaxD:  1  ~ MinSR:  2\n",
      "Acc:  0.7351725180454254  ~ Tr#:  1  ~ MaxLN:  100  ~ MaxD:  1  ~ MinSR:  5\n",
      "Acc:  0.7408595039240139  ~ Tr#:  1  ~ MaxLN:  100  ~ MaxD:  1  ~ MinSR:  10\n",
      "Acc:  0.7710353602156633  ~ Tr#:  1  ~ MaxLN:  100  ~ MaxD:  10  ~ MinSR:  1\n",
      "Acc:  0.7593111875338547  ~ Tr#:  1  ~ MaxLN:  100  ~ MaxD:  10  ~ MinSR:  2\n",
      "Acc:  0.7483145005857678  ~ Tr#:  1  ~ MaxLN:  100  ~ MaxD:  10  ~ MinSR:  5\n",
      "Acc:  0.746549009233715  ~ Tr#:  1  ~ MaxLN:  100  ~ MaxD:  10  ~ MinSR:  10\n",
      "Acc:  0.7525729690235945  ~ Tr#:  1  ~ MaxLN:  100  ~ MaxD:  100  ~ MinSR:  1\n",
      "Acc:  0.7518517818676542  ~ Tr#:  1  ~ MaxLN:  100  ~ MaxD:  100  ~ MinSR:  2\n",
      "Acc:  0.7610962044770291  ~ Tr#:  1  ~ MaxLN:  100  ~ MaxD:  100  ~ MinSR:  5\n",
      "Acc:  0.7635759545494627  ~ Tr#:  1  ~ MaxLN:  100  ~ MaxD:  100  ~ MinSR:  10\n",
      "Acc:  0.7557625688119622  ~ Tr#:  1  ~ MaxLN:  100  ~ MaxD:  None  ~ MinSR:  1\n",
      "Acc:  0.7582555458977362  ~ Tr#:  1  ~ MaxLN:  100  ~ MaxD:  None  ~ MinSR:  2\n",
      "Acc:  0.7497398687376389  ~ Tr#:  1  ~ MaxLN:  100  ~ MaxD:  None  ~ MinSR:  5\n",
      "Acc:  0.7749329201466308  ~ Tr#:  1  ~ MaxLN:  100  ~ MaxD:  None  ~ MinSR:  10\n",
      "Acc:  0.7362489449882216  ~ Tr#:  1  ~ MaxLN:  1000  ~ MaxD:  1  ~ MinSR:  1\n",
      "Acc:  0.7365985160550748  ~ Tr#:  1  ~ MaxLN:  1000  ~ MaxD:  1  ~ MinSR:  2\n",
      "Acc:  0.7465288537848154  ~ Tr#:  1  ~ MaxLN:  1000  ~ MaxD:  1  ~ MinSR:  5\n",
      "Acc:  0.7326858395374325  ~ Tr#:  1  ~ MaxLN:  1000  ~ MaxD:  1  ~ MinSR:  10\n",
      "Acc:  0.7333931698222542  ~ Tr#:  1  ~ MaxLN:  1000  ~ MaxD:  10  ~ MinSR:  1\n",
      "Acc:  0.743329806129776  ~ Tr#:  1  ~ MaxLN:  1000  ~ MaxD:  10  ~ MinSR:  2\n",
      "Acc:  0.7568352166080898  ~ Tr#:  1  ~ MaxLN:  1000  ~ MaxD:  10  ~ MinSR:  5\n",
      "Acc:  0.7678413514228487  ~ Tr#:  1  ~ MaxLN:  1000  ~ MaxD:  10  ~ MinSR:  10\n",
      "Acc:  0.7216891525893453  ~ Tr#:  1  ~ MaxLN:  1000  ~ MaxD:  100  ~ MinSR:  1\n",
      "Acc:  0.7358867767658064  ~ Tr#:  1  ~ MaxLN:  1000  ~ MaxD:  100  ~ MinSR:  2\n",
      "Acc:  0.7632232341937191  ~ Tr#:  1  ~ MaxLN:  1000  ~ MaxD:  100  ~ MinSR:  5\n",
      "Acc:  0.768900772205636  ~ Tr#:  1  ~ MaxLN:  1000  ~ MaxD:  100  ~ MinSR:  10\n",
      "Acc:  0.7280759104594183  ~ Tr#:  1  ~ MaxLN:  1000  ~ MaxD:  None  ~ MinSR:  1\n",
      "Acc:  0.7316188604613079  ~ Tr#:  1  ~ MaxLN:  1000  ~ MaxD:  None  ~ MinSR:  2\n",
      "Acc:  0.751872567174332  ~ Tr#:  1  ~ MaxLN:  1000  ~ MaxD:  None  ~ MinSR:  5\n",
      "Acc:  0.7610892760414698  ~ Tr#:  1  ~ MaxLN:  1000  ~ MaxD:  None  ~ MinSR:  10\n",
      "Acc:  0.7376579368378621  ~ Tr#:  1  ~ MaxLN:  None  ~ MaxD:  1  ~ MinSR:  1\n",
      "Acc:  0.7376579368378621  ~ Tr#:  1  ~ MaxLN:  None  ~ MaxD:  1  ~ MinSR:  2\n",
      "Acc:  0.7376579368378621  ~ Tr#:  1  ~ MaxLN:  None  ~ MaxD:  1  ~ MinSR:  5\n",
      "Acc:  0.7376579368378621  ~ Tr#:  1  ~ MaxLN:  None  ~ MaxD:  1  ~ MinSR:  10\n",
      "Acc:  0.7359094516458183  ~ Tr#:  1  ~ MaxLN:  None  ~ MaxD:  10  ~ MinSR:  1\n",
      "Acc:  0.740145245203633  ~ Tr#:  1  ~ MaxLN:  None  ~ MaxD:  10  ~ MinSR:  2\n",
      "Acc:  0.7536279808019348  ~ Tr#:  1  ~ MaxLN:  None  ~ MaxD:  10  ~ MinSR:  5\n",
      "Acc:  0.7738672007860625  ~ Tr#:  1  ~ MaxLN:  None  ~ MaxD:  10  ~ MinSR:  10\n",
      "Acc:  0.7284387085396118  ~ Tr#:  1  ~ MaxLN:  None  ~ MaxD:  100  ~ MinSR:  1\n",
      "Acc:  0.7333963191111448  ~ Tr#:  1  ~ MaxLN:  None  ~ MaxD:  100  ~ MinSR:  2\n",
      "Acc:  0.7518631193076603  ~ Tr#:  1  ~ MaxLN:  None  ~ MaxD:  100  ~ MinSR:  5\n",
      "Acc:  0.7607371855435042  ~ Tr#:  1  ~ MaxLN:  None  ~ MaxD:  100  ~ MinSR:  10\n",
      "Acc:  0.7284374488240556  ~ Tr#:  1  ~ MaxLN:  None  ~ MaxD:  None  ~ MinSR:  1\n",
      "Acc:  0.7284412279707243  ~ Tr#:  1  ~ MaxLN:  None  ~ MaxD:  None  ~ MinSR:  2\n",
      "Acc:  0.7483069422924304  ~ Tr#:  1  ~ MaxLN:  None  ~ MaxD:  None  ~ MinSR:  5\n",
      "Acc:  0.7603857249033168  ~ Tr#:  1  ~ MaxLN:  None  ~ MaxD:  None  ~ MinSR:  10\n",
      "Acc:  0.7596525704495926  ~ Tr#:  5  ~ MaxLN:  10  ~ MaxD:  1  ~ MinSR:  1\n",
      "Acc:  0.7720828137006663  ~ Tr#:  5  ~ MaxLN:  10  ~ MaxD:  1  ~ MinSR:  2\n",
      "Acc:  0.7614470352594385  ~ Tr#:  5  ~ MaxLN:  10  ~ MaxD:  1  ~ MinSR:  5\n",
      "Acc:  0.7483151304435459  ~ Tr#:  5  ~ MaxLN:  10  ~ MaxD:  1  ~ MinSR:  10\n",
      "Acc:  0.785225426098787  ~ Tr#:  5  ~ MaxLN:  10  ~ MaxD:  10  ~ MinSR:  1\n",
      "Acc:  0.7955191917664991  ~ Tr#:  5  ~ MaxLN:  10  ~ MaxD:  10  ~ MinSR:  2\n",
      "Acc:  0.7862842170237961  ~ Tr#:  5  ~ MaxLN:  10  ~ MaxD:  10  ~ MinSR:  5\n",
      "Acc:  0.7859302369524961  ~ Tr#:  5  ~ MaxLN:  10  ~ MaxD:  10  ~ MinSR:  10\n",
      "Acc:  0.7884181751760451  ~ Tr#:  5  ~ MaxLN:  10  ~ MaxD:  100  ~ MinSR:  1\n",
      "Acc:  0.7891261353186451  ~ Tr#:  5  ~ MaxLN:  10  ~ MaxD:  100  ~ MinSR:  2\n",
      "Acc:  0.787708325460111  ~ Tr#:  5  ~ MaxLN:  10  ~ MaxD:  100  ~ MinSR:  5\n",
      "Acc:  0.7887727851051233  ~ Tr#:  5  ~ MaxLN:  10  ~ MaxD:  100  ~ MinSR:  10\n",
      "Acc:  0.7898353551768011  ~ Tr#:  5  ~ MaxLN:  10  ~ MaxD:  None  ~ MinSR:  1\n",
      "Acc:  0.7887778239673482  ~ Tr#:  5  ~ MaxLN:  10  ~ MaxD:  None  ~ MinSR:  2\n",
      "Acc:  0.7877083254601109  ~ Tr#:  5  ~ MaxLN:  10  ~ MaxD:  None  ~ MinSR:  5\n",
      "Acc:  0.7877108448912236  ~ Tr#:  5  ~ MaxLN:  10  ~ MaxD:  None  ~ MinSR:  10\n",
      "Acc:  0.7653370368970688  ~ Tr#:  5  ~ MaxLN:  100  ~ MaxD:  1  ~ MinSR:  1\n",
      "Acc:  0.7465269642114811  ~ Tr#:  5  ~ MaxLN:  100  ~ MaxD:  1  ~ MinSR:  2\n",
      "Acc:  0.7571803786704961  ~ Tr#:  5  ~ MaxLN:  100  ~ MaxD:  1  ~ MinSR:  5\n",
      "Acc:  0.7585937795245833  ~ Tr#:  5  ~ MaxLN:  100  ~ MaxD:  1  ~ MinSR:  10\n",
      "Acc:  0.7862879961704646  ~ Tr#:  5  ~ MaxLN:  100  ~ MaxD:  10  ~ MinSR:  1\n",
      "Acc:  0.7859365355302773  ~ Tr#:  5  ~ MaxLN:  100  ~ MaxD:  10  ~ MinSR:  2\n",
      "Acc:  0.7887740448206795  ~ Tr#:  5  ~ MaxLN:  100  ~ MaxD:  10  ~ MinSR:  5\n",
      "Acc:  0.7916172228310847  ~ Tr#:  5  ~ MaxLN:  100  ~ MaxD:  10  ~ MinSR:  10\n",
      "Acc:  0.7909023342529256  ~ Tr#:  5  ~ MaxLN:  100  ~ MaxD:  100  ~ MinSR:  1\n",
      "Acc:  0.7948055629038964  ~ Tr#:  5  ~ MaxLN:  100  ~ MaxD:  100  ~ MinSR:  2\n",
      "Acc:  0.7894927125455072  ~ Tr#:  5  ~ MaxLN:  100  ~ MaxD:  100  ~ MinSR:  5\n",
      "Acc:  0.7919749820490534  ~ Tr#:  5  ~ MaxLN:  100  ~ MaxD:  100  ~ MinSR:  10\n",
      "Acc:  0.7930381819785092  ~ Tr#:  5  ~ MaxLN:  100  ~ MaxD:  None  ~ MinSR:  1\n",
      "Acc:  0.7827387475907941  ~ Tr#:  5  ~ MaxLN:  100  ~ MaxD:  None  ~ MinSR:  2\n",
      "Acc:  0.7905515034705164  ~ Tr#:  5  ~ MaxLN:  100  ~ MaxD:  None  ~ MinSR:  5\n",
      "Acc:  0.7955198216242773  ~ Tr#:  5  ~ MaxLN:  100  ~ MaxD:  None  ~ MinSR:  10\n",
      "Acc:  0.7500825113689329  ~ Tr#:  5  ~ MaxLN:  1000  ~ MaxD:  1  ~ MinSR:  1\n",
      "Acc:  0.753639318241941  ~ Tr#:  5  ~ MaxLN:  1000  ~ MaxD:  1  ~ MinSR:  2\n",
      "Acc:  0.7745663429197687  ~ Tr#:  5  ~ MaxLN:  1000  ~ MaxD:  1  ~ MinSR:  5\n",
      "Acc:  0.7649780179635439  ~ Tr#:  5  ~ MaxLN:  1000  ~ MaxD:  1  ~ MinSR:  10\n",
      "Acc:  0.7703223612108386  ~ Tr#:  5  ~ MaxLN:  1000  ~ MaxD:  10  ~ MinSR:  1\n",
      "Acc:  0.7852310948187898  ~ Tr#:  5  ~ MaxLN:  1000  ~ MaxD:  10  ~ MinSR:  2\n",
      "Acc:  0.7827519746041344  ~ Tr#:  5  ~ MaxLN:  1000  ~ MaxD:  10  ~ MinSR:  5\n",
      "Acc:  0.7941013819079651  ~ Tr#:  5  ~ MaxLN:  1000  ~ MaxD:  10  ~ MinSR:  10\n",
      "Acc:  0.7642782459720595  ~ Tr#:  5  ~ MaxLN:  1000  ~ MaxD:  100  ~ MinSR:  1\n",
      "Acc:  0.7763526195784991  ~ Tr#:  5  ~ MaxLN:  1000  ~ MaxD:  100  ~ MinSR:  2\n",
      "Acc:  0.7809751458120757  ~ Tr#:  5  ~ MaxLN:  1000  ~ MaxD:  100  ~ MinSR:  5\n",
      "Acc:  0.7901975233992165  ~ Tr#:  5  ~ MaxLN:  1000  ~ MaxD:  100  ~ MinSR:  10\n",
      "Acc:  0.7696112517793483  ~ Tr#:  5  ~ MaxLN:  1000  ~ MaxD:  None  ~ MinSR:  1\n",
      "Acc:  0.7806243150296662  ~ Tr#:  5  ~ MaxLN:  1000  ~ MaxD:  None  ~ MinSR:  2\n",
      "Acc:  0.795878210700024  ~ Tr#:  5  ~ MaxLN:  1000  ~ MaxD:  None  ~ MinSR:  5\n",
      "Acc:  0.7941083103435244  ~ Tr#:  5  ~ MaxLN:  1000  ~ MaxD:  None  ~ MinSR:  10\n",
      "Acc:  0.7376579368378621  ~ Tr#:  5  ~ MaxLN:  None  ~ MaxD:  1  ~ MinSR:  1\n",
      "Acc:  0.7376579368378621  ~ Tr#:  5  ~ MaxLN:  None  ~ MaxD:  1  ~ MinSR:  2\n",
      "Acc:  0.7376579368378621  ~ Tr#:  5  ~ MaxLN:  None  ~ MaxD:  1  ~ MinSR:  5\n",
      "Acc:  0.7376579368378621  ~ Tr#:  5  ~ MaxLN:  None  ~ MaxD:  1  ~ MinSR:  10\n",
      "Acc:  0.7813247168789287  ~ Tr#:  5  ~ MaxLN:  None  ~ MaxD:  10  ~ MinSR:  1\n",
      "Acc:  0.7855825554589775  ~ Tr#:  5  ~ MaxLN:  None  ~ MaxD:  10  ~ MinSR:  2\n",
      "Acc:  0.7873568648199237  ~ Tr#:  5  ~ MaxLN:  None  ~ MaxD:  10  ~ MinSR:  5\n",
      "Acc:  0.7909117821195975  ~ Tr#:  5  ~ MaxLN:  None  ~ MaxD:  10  ~ MinSR:  10\n",
      "Acc:  0.7742312585818121  ~ Tr#:  5  ~ MaxLN:  None  ~ MaxD:  100  ~ MinSR:  1\n",
      "Acc:  0.7916266706977565  ~ Tr#:  5  ~ MaxLN:  None  ~ MaxD:  100  ~ MinSR:  2\n",
      "Acc:  0.8008477885693411  ~ Tr#:  5  ~ MaxLN:  None  ~ MaxD:  100  ~ MinSR:  5\n",
      "Acc:  0.7884244737538264  ~ Tr#:  5  ~ MaxLN:  None  ~ MaxD:  100  ~ MinSR:  10\n",
      "Acc:  0.778844336948717  ~ Tr#:  5  ~ MaxLN:  None  ~ MaxD:  None  ~ MinSR:  1\n",
      "Acc:  0.7738672007860624  ~ Tr#:  5  ~ MaxLN:  None  ~ MaxD:  None  ~ MinSR:  2\n",
      "Acc:  0.7873568648199237  ~ Tr#:  5  ~ MaxLN:  None  ~ MaxD:  None  ~ MinSR:  5\n",
      "Acc:  0.7937530705566684  ~ Tr#:  5  ~ MaxLN:  None  ~ MaxD:  None  ~ MinSR:  10\n",
      "Acc:  0.752920020659335  ~ Tr#:  10  ~ MaxLN:  10  ~ MaxD:  1  ~ MinSR:  1\n",
      "Acc:  0.7536204225085976  ~ Tr#:  10  ~ MaxLN:  10  ~ MaxD:  1  ~ MinSR:  2\n",
      "Acc:  0.7632188251892723  ~ Tr#:  10  ~ MaxLN:  10  ~ MaxD:  1  ~ MinSR:  5\n",
      "Acc:  0.758603227391255  ~ Tr#:  10  ~ MaxLN:  10  ~ MaxD:  1  ~ MinSR:  10\n",
      "Acc:  0.7898378746079135  ~ Tr#:  10  ~ MaxLN:  10  ~ MaxD:  10  ~ MinSR:  1\n",
      "Acc:  0.7905515034705164  ~ Tr#:  10  ~ MaxLN:  10  ~ MaxD:  10  ~ MinSR:  2\n",
      "Acc:  0.7948112316238992  ~ Tr#:  10  ~ MaxLN:  10  ~ MaxD:  10  ~ MinSR:  5\n",
      "Acc:  0.7894813751055011  ~ Tr#:  10  ~ MaxLN:  10  ~ MaxD:  10  ~ MinSR:  10\n",
      "Acc:  0.787708325460111  ~ Tr#:  10  ~ MaxLN:  10  ~ MaxD:  100  ~ MinSR:  1\n",
      "Acc:  0.7884188050338233  ~ Tr#:  10  ~ MaxLN:  10  ~ MaxD:  100  ~ MinSR:  2\n",
      "Acc:  0.796582391695955  ~ Tr#:  10  ~ MaxLN:  10  ~ MaxD:  100  ~ MinSR:  5\n",
      "Acc:  0.7887721552473452  ~ Tr#:  10  ~ MaxLN:  10  ~ MaxD:  100  ~ MinSR:  10\n",
      "Acc:  0.7912563143242256  ~ Tr#:  10  ~ MaxLN:  10  ~ MaxD:  None  ~ MinSR:  1\n",
      "Acc:  0.7919661640401597  ~ Tr#:  10  ~ MaxLN:  10  ~ MaxD:  None  ~ MinSR:  2\n",
      "Acc:  0.7923239232581283  ~ Tr#:  10  ~ MaxLN:  10  ~ MaxD:  None  ~ MinSR:  5\n",
      "Acc:  0.7923251829736845  ~ Tr#:  10  ~ MaxLN:  10  ~ MaxD:  None  ~ MinSR:  10\n",
      "Acc:  0.7543409798067596  ~ Tr#:  10  ~ MaxLN:  100  ~ MaxD:  1  ~ MinSR:  1\n",
      "Acc:  0.7543334215134223  ~ Tr#:  10  ~ MaxLN:  100  ~ MaxD:  1  ~ MinSR:  2\n",
      "Acc:  0.7635526498116725  ~ Tr#:  10  ~ MaxLN:  100  ~ MaxD:  1  ~ MinSR:  5\n",
      "Acc:  0.7461811722912967  ~ Tr#:  10  ~ MaxLN:  100  ~ MaxD:  1  ~ MinSR:  10\n",
      "Acc:  0.795524230628724  ~ Tr#:  10  ~ MaxLN:  100  ~ MaxD:  10  ~ MinSR:  1\n",
      "Acc:  0.7941070506279682  ~ Tr#:  10  ~ MaxLN:  100  ~ MaxD:  10  ~ MinSR:  2\n",
      "Acc:  0.793746142121109  ~ Tr#:  10  ~ MaxLN:  100  ~ MaxD:  10  ~ MinSR:  5\n",
      "Acc:  0.7997801796354383  ~ Tr#:  10  ~ MaxLN:  100  ~ MaxD:  10  ~ MinSR:  10\n",
      "Acc:  0.8004950682135974  ~ Tr#:  10  ~ MaxLN:  100  ~ MaxD:  100  ~ MinSR:  1\n",
      "Acc:  0.7994268294219166  ~ Tr#:  10  ~ MaxLN:  100  ~ MaxD:  100  ~ MinSR:  2\n",
      "Acc:  0.7965912097048486  ~ Tr#:  10  ~ MaxLN:  100  ~ MaxD:  100  ~ MinSR:  5\n",
      "Acc:  0.7962240026202083  ~ Tr#:  10  ~ MaxLN:  100  ~ MaxD:  100  ~ MinSR:  10\n",
      "Acc:  0.7912613531864505  ~ Tr#:  10  ~ MaxLN:  100  ~ MaxD:  None  ~ MinSR:  1\n",
      "Acc:  0.8019122482143531  ~ Tr#:  10  ~ MaxLN:  100  ~ MaxD:  None  ~ MinSR:  2\n",
      "Acc:  0.7916191124044192  ~ Tr#:  10  ~ MaxLN:  100  ~ MaxD:  None  ~ MinSR:  5\n",
      "Acc:  0.7969414106294799  ~ Tr#:  10  ~ MaxLN:  100  ~ MaxD:  None  ~ MinSR:  10\n",
      "Acc:  0.7600380434097982  ~ Tr#:  10  ~ MaxLN:  1000  ~ MaxD:  1  ~ MinSR:  1\n",
      "Acc:  0.750443419875792  ~ Tr#:  10  ~ MaxLN:  1000  ~ MaxD:  1  ~ MinSR:  2\n",
      "Acc:  0.7653521534837434  ~ Tr#:  10  ~ MaxLN:  1000  ~ MaxD:  1  ~ MinSR:  5\n",
      "Acc:  0.752216469521182  ~ Tr#:  10  ~ MaxLN:  1000  ~ MaxD:  1  ~ MinSR:  10\n",
      "Acc:  0.7866470151039895  ~ Tr#:  10  ~ MaxLN:  1000  ~ MaxD:  10  ~ MinSR:  1\n",
      "Acc:  0.7944585112681557  ~ Tr#:  10  ~ MaxLN:  1000  ~ MaxD:  10  ~ MinSR:  2\n",
      "Acc:  0.7965937291359613  ~ Tr#:  10  ~ MaxLN:  1000  ~ MaxD:  10  ~ MinSR:  5\n",
      "Acc:  0.8029735585704747  ~ Tr#:  10  ~ MaxLN:  1000  ~ MaxD:  10  ~ MinSR:  10\n",
      "Acc:  0.7894838945366136  ~ Tr#:  10  ~ MaxLN:  1000  ~ MaxD:  100  ~ MinSR:  1\n",
      "Acc:  0.7912626129020067  ~ Tr#:  10  ~ MaxLN:  1000  ~ MaxD:  100  ~ MinSR:  2\n",
      "Acc:  0.7969445599183704  ~ Tr#:  10  ~ MaxLN:  1000  ~ MaxD:  100  ~ MinSR:  5\n",
      "Acc:  0.7958801002733582  ~ Tr#:  10  ~ MaxLN:  1000  ~ MaxD:  100  ~ MinSR:  10\n",
      "Acc:  0.7898397641812478  ~ Tr#:  10  ~ MaxLN:  1000  ~ MaxD:  None  ~ MinSR:  1\n",
      "Acc:  0.7962391192068831  ~ Tr#:  10  ~ MaxLN:  1000  ~ MaxD:  None  ~ MinSR:  2\n",
      "Acc:  0.792327702404797  ~ Tr#:  10  ~ MaxLN:  1000  ~ MaxD:  None  ~ MinSR:  5\n",
      "Acc:  0.7930350326896186  ~ Tr#:  10  ~ MaxLN:  1000  ~ MaxD:  None  ~ MinSR:  10\n",
      "Acc:  0.7376579368378621  ~ Tr#:  10  ~ MaxLN:  None  ~ MaxD:  1  ~ MinSR:  1\n",
      "Acc:  0.7376579368378621  ~ Tr#:  10  ~ MaxLN:  None  ~ MaxD:  1  ~ MinSR:  2\n",
      "Acc:  0.7376579368378621  ~ Tr#:  10  ~ MaxLN:  None  ~ MaxD:  1  ~ MinSR:  5\n",
      "Acc:  0.7376579368378621  ~ Tr#:  10  ~ MaxLN:  None  ~ MaxD:  1  ~ MinSR:  10\n",
      "Acc:  0.7909054835418161  ~ Tr#:  10  ~ MaxLN:  None  ~ MaxD:  10  ~ MinSR:  1\n",
      "Acc:  0.798005870274492  ~ Tr#:  10  ~ MaxLN:  None  ~ MaxD:  10  ~ MinSR:  2\n",
      "Acc:  0.8019122482143531  ~ Tr#:  10  ~ MaxLN:  None  ~ MaxD:  10  ~ MinSR:  5\n",
      "Acc:  0.7923239232581283  ~ Tr#:  10  ~ MaxLN:  None  ~ MaxD:  10  ~ MinSR:  10\n",
      "Acc:  0.799069070203948  ~ Tr#:  10  ~ MaxLN:  None  ~ MaxD:  100  ~ MinSR:  1\n",
      "Acc:  0.7909080029729287  ~ Tr#:  10  ~ MaxLN:  None  ~ MaxD:  100  ~ MinSR:  2\n",
      "Acc:  0.7933978307698122  ~ Tr#:  10  ~ MaxLN:  None  ~ MaxD:  100  ~ MinSR:  5\n",
      "Acc:  0.7962290414824332  ~ Tr#:  10  ~ MaxLN:  None  ~ MaxD:  100  ~ MinSR:  10\n",
      "Acc:  0.78913117418087  ~ Tr#:  10  ~ MaxLN:  None  ~ MaxD:  None  ~ MinSR:  1\n",
      "Acc:  0.789131804038648  ~ Tr#:  10  ~ MaxLN:  None  ~ MaxD:  None  ~ MinSR:  2\n",
      "Acc:  0.8011992492095285  ~ Tr#:  10  ~ MaxLN:  None  ~ MaxD:  None  ~ MinSR:  5\n",
      "Acc:  0.7923232934003502  ~ Tr#:  10  ~ MaxLN:  None  ~ MaxD:  None  ~ MinSR:  10\n",
      "Acc:  0.755401660305103  ~ Tr#:  100  ~ MaxLN:  10  ~ MaxD:  1  ~ MinSR:  1\n",
      "Acc:  0.7575274303062368  ~ Tr#:  100  ~ MaxLN:  10  ~ MaxD:  1  ~ MinSR:  2\n",
      "Acc:  0.7539807011576787  ~ Tr#:  100  ~ MaxLN:  10  ~ MaxD:  1  ~ MinSR:  5\n",
      "Acc:  0.7461742438557374  ~ Tr#:  100  ~ MaxLN:  10  ~ MaxD:  1  ~ MinSR:  10\n",
      "Acc:  0.7944534724059308  ~ Tr#:  100  ~ MaxLN:  10  ~ MaxD:  10  ~ MinSR:  1\n",
      "Acc:  0.7909010745373696  ~ Tr#:  100  ~ MaxLN:  10  ~ MaxD:  10  ~ MinSR:  2\n",
      "Acc:  0.792327072547019  ~ Tr#:  100  ~ MaxLN:  10  ~ MaxD:  10  ~ MinSR:  5\n",
      "Acc:  0.7916109242533035  ~ Tr#:  100  ~ MaxLN:  10  ~ MaxD:  10  ~ MinSR:  10\n",
      "Acc:  0.7926747540405377  ~ Tr#:  100  ~ MaxLN:  10  ~ MaxD:  100  ~ MinSR:  1\n",
      "Acc:  0.7937429928322185  ~ Tr#:  100  ~ MaxLN:  10  ~ MaxD:  100  ~ MinSR:  2\n",
      "Acc:  0.7933858634720281  ~ Tr#:  100  ~ MaxLN:  10  ~ MaxD:  100  ~ MinSR:  5\n",
      "Acc:  0.7937404734011061  ~ Tr#:  100  ~ MaxLN:  10  ~ MaxD:  100  ~ MinSR:  10\n",
      "Acc:  0.7930318834007282  ~ Tr#:  100  ~ MaxLN:  10  ~ MaxD:  None  ~ MinSR:  1\n",
      "Acc:  0.7916115541110817  ~ Tr#:  100  ~ MaxLN:  10  ~ MaxD:  None  ~ MinSR:  2\n",
      "Acc:  0.7926779033294282  ~ Tr#:  100  ~ MaxLN:  10  ~ MaxD:  None  ~ MinSR:  5\n",
      "Acc:  0.7926791630449845  ~ Tr#:  100  ~ MaxLN:  10  ~ MaxD:  None  ~ MinSR:  10\n",
      "Acc:  0.7529143519393322  ~ Tr#:  100  ~ MaxLN:  100  ~ MaxD:  1  ~ MinSR:  1\n",
      "Acc:  0.7433398838542258  ~ Tr#:  100  ~ MaxLN:  100  ~ MaxD:  1  ~ MinSR:  2\n",
      "Acc:  0.7539762921532318  ~ Tr#:  100  ~ MaxLN:  100  ~ MaxD:  1  ~ MinSR:  5\n",
      "Acc:  0.7578832999508711  ~ Tr#:  100  ~ MaxLN:  100  ~ MaxD:  1  ~ MinSR:  10\n",
      "Acc:  0.8019072093521282  ~ Tr#:  100  ~ MaxLN:  100  ~ MaxD:  10  ~ MinSR:  1\n",
      "Acc:  0.8033269087839965  ~ Tr#:  100  ~ MaxLN:  100  ~ MaxD:  10  ~ MinSR:  2\n",
      "Acc:  0.801551339707494  ~ Tr#:  100  ~ MaxLN:  100  ~ MaxD:  10  ~ MinSR:  5\n",
      "Acc:  0.8029735585704747  ~ Tr#:  100  ~ MaxLN:  100  ~ MaxD:  10  ~ MinSR:  10\n",
      "Acc:  0.8001366791378507  ~ Tr#:  100  ~ MaxLN:  100  ~ MaxD:  100  ~ MinSR:  1\n",
      "Acc:  0.8029767078593654  ~ Tr#:  100  ~ MaxLN:  100  ~ MaxD:  100  ~ MinSR:  2\n",
      "Acc:  0.8058154768653238  ~ Tr#:  100  ~ MaxLN:  100  ~ MaxD:  100  ~ MinSR:  5\n",
      "Acc:  0.8001297507022913  ~ Tr#:  100  ~ MaxLN:  100  ~ MaxD:  100  ~ MinSR:  10\n",
      "Acc:  0.8047510172203116  ~ Tr#:  100  ~ MaxLN:  100  ~ MaxD:  None  ~ MinSR:  1\n",
      "Acc:  0.8022662282856532  ~ Tr#:  100  ~ MaxLN:  100  ~ MaxD:  None  ~ MinSR:  2\n",
      "Acc:  0.804392628144565  ~ Tr#:  100  ~ MaxLN:  100  ~ MaxD:  None  ~ MinSR:  5\n",
      "Acc:  0.800132899991182  ~ Tr#:  100  ~ MaxLN:  100  ~ MaxD:  None  ~ MinSR:  10\n",
      "Acc:  0.7554098484562186  ~ Tr#:  100  ~ MaxLN:  1000  ~ MaxD:  1  ~ MinSR:  1\n",
      "Acc:  0.7472456319363087  ~ Tr#:  100  ~ MaxLN:  1000  ~ MaxD:  1  ~ MinSR:  2\n",
      "Acc:  0.7554041797362154  ~ Tr#:  100  ~ MaxLN:  1000  ~ MaxD:  1  ~ MinSR:  5\n",
      "Acc:  0.7472418527896402  ~ Tr#:  100  ~ MaxLN:  1000  ~ MaxD:  1  ~ MinSR:  10\n",
      "Acc:  0.7944559918370432  ~ Tr#:  100  ~ MaxLN:  1000  ~ MaxD:  10  ~ MinSR:  1\n",
      "Acc:  0.7969426703450361  ~ Tr#:  100  ~ MaxLN:  1000  ~ MaxD:  10  ~ MinSR:  2\n",
      "Acc:  0.8054614967940239  ~ Tr#:  100  ~ MaxLN:  1000  ~ MaxD:  10  ~ MinSR:  5\n",
      "Acc:  0.8047440887847523  ~ Tr#:  100  ~ MaxLN:  1000  ~ MaxD:  10  ~ MinSR:  10\n",
      "Acc:  0.7926772734716501  ~ Tr#:  100  ~ MaxLN:  1000  ~ MaxD:  100  ~ MinSR:  1\n",
      "Acc:  0.8022674880012094  ~ Tr#:  100  ~ MaxLN:  1000  ~ MaxD:  100  ~ MinSR:  2\n",
      "Acc:  0.7997764004887695  ~ Tr#:  100  ~ MaxLN:  1000  ~ MaxD:  100  ~ MinSR:  5\n",
      "Acc:  0.8011979894939723  ~ Tr#:  100  ~ MaxLN:  1000  ~ MaxD:  100  ~ MinSR:  10\n",
      "Acc:  0.7972935011274455  ~ Tr#:  100  ~ MaxLN:  1000  ~ MaxD:  None  ~ MinSR:  1\n",
      "Acc:  0.7962321907713239  ~ Tr#:  100  ~ MaxLN:  1000  ~ MaxD:  None  ~ MinSR:  2\n",
      "Acc:  0.7997814393509945  ~ Tr#:  100  ~ MaxLN:  1000  ~ MaxD:  None  ~ MinSR:  5\n",
      "Acc:  0.8008414899915598  ~ Tr#:  100  ~ MaxLN:  1000  ~ MaxD:  None  ~ MinSR:  10\n",
      "Acc:  0.7376579368378621  ~ Tr#:  100  ~ MaxLN:  None  ~ MaxD:  1  ~ MinSR:  1\n",
      "Acc:  0.7376579368378621  ~ Tr#:  100  ~ MaxLN:  None  ~ MaxD:  1  ~ MinSR:  2\n",
      "Acc:  0.7376579368378621  ~ Tr#:  100  ~ MaxLN:  None  ~ MaxD:  1  ~ MinSR:  5\n",
      "Acc:  0.7376579368378621  ~ Tr#:  100  ~ MaxLN:  None  ~ MaxD:  1  ~ MinSR:  10\n",
      "Acc:  0.8001391985689631  ~ Tr#:  100  ~ MaxLN:  None  ~ MaxD:  10  ~ MinSR:  1\n",
      "Acc:  0.8043945177178994  ~ Tr#:  100  ~ MaxLN:  None  ~ MaxD:  10  ~ MinSR:  2\n",
      "Acc:  0.8047510172203116  ~ Tr#:  100  ~ MaxLN:  None  ~ MaxD:  10  ~ MinSR:  5\n",
      "Acc:  0.80226055956565  ~ Tr#:  100  ~ MaxLN:  None  ~ MaxD:  10  ~ MinSR:  10\n",
      "Acc:  0.7976500006298578  ~ Tr#:  100  ~ MaxLN:  None  ~ MaxD:  100  ~ MinSR:  1\n",
      "Acc:  0.7969395210561455  ~ Tr#:  100  ~ MaxLN:  None  ~ MaxD:  100  ~ MinSR:  2\n",
      "Acc:  0.8040424272199338  ~ Tr#:  100  ~ MaxLN:  None  ~ MaxD:  100  ~ MinSR:  5\n",
      "Acc:  0.7987119408437574  ~ Tr#:  100  ~ MaxLN:  None  ~ MaxD:  100  ~ MinSR:  10\n",
      "Acc:  0.8029722988549185  ~ Tr#:  100  ~ MaxLN:  None  ~ MaxD:  None  ~ MinSR:  1\n",
      "Acc:  0.7990759986395072  ~ Tr#:  100  ~ MaxLN:  None  ~ MaxD:  None  ~ MinSR:  2\n",
      "Acc:  0.802619578499175  ~ Tr#:  100  ~ MaxLN:  None  ~ MaxD:  None  ~ MinSR:  5\n",
      "Acc:  0.80048750992026  ~ Tr#:  100  ~ MaxLN:  None  ~ MaxD:  None  ~ MinSR:  10\n",
      "Max Acc:  0.8058154768653238  ~ Tr#:  100  ~ MaxLN:  100  ~ MaxD:  100  ~ MinSR:  5\n"
     ]
    }
   ],
   "source": [
    "max_acc, number_of_trees, max_node, max_dep, samp_req = test_and_print_best()"
   ]
  },
  {
   "cell_type": "code",
   "execution_count": 97,
   "metadata": {},
   "outputs": [
    {
     "name": "stdout",
     "output_type": "stream",
     "text": [
      "Best train/test split ratio is:  0.3\n"
     ]
    }
   ],
   "source": [
    "accs ,max_acc_ratio = test_out_split_size(number_of_trees, max_node, max_dep, samp_req)\n",
    "print(\"Best train/test split ratio is: \", max_acc_ratio)"
   ]
  },
  {
   "cell_type": "code",
   "execution_count": 232,
   "metadata": {},
   "outputs": [],
   "source": [
    "def feature_importances(number_of_trees, max_node, max_dep, samp_req):\n",
    "    clf = RandomForestClassifier(n_estimators=number_of_trees, max_depth=max_dep, min_samples_leaf=samp_req, max_leaf_nodes=max_node)\n",
    "    X_train, X_test, y_train, y_test = split_data(0.3)\n",
    "    model = clf.fit(X_train, y_train)\n",
    "    acc = r2_score(y_test, model.predict(X_test))\n",
    "    scores = defaultdict(list)\n",
    "    for i in range (X_train.shape[1]):\n",
    "        X_t = X_test.copy()\n",
    "        np.random.shuffle(X_t[:, i])\n",
    "        shuffle_acc = r2_score(y_test, model.predict(X_t))\n",
    "        scores[column_names[i+1]].append((acc-shuffle_acc)/acc)\n",
    "    return scores"
   ]
  },
  {
   "cell_type": "code",
   "execution_count": 238,
   "metadata": {},
   "outputs": [],
   "source": [
    "scores = feature_importances(number_of_trees, max_node, max_dep, samp_req)"
   ]
  },
  {
   "cell_type": "code",
   "execution_count": 239,
   "metadata": {},
   "outputs": [],
   "source": [
    "score_values = list(scores.values())\n",
    "feature_names = list(scores.keys())"
   ]
  },
  {
   "cell_type": "code",
   "execution_count": 240,
   "metadata": {},
   "outputs": [],
   "source": [
    "feature_imp = []\n",
    "for i in range(len(score_values)):\n",
    "    feature_imp.append([score_values[i][0] , feature_names[i]])"
   ]
  },
  {
   "cell_type": "code",
   "execution_count": 244,
   "metadata": {},
   "outputs": [],
   "source": [
    "feature_imp = sorted(feature_imp)"
   ]
  },
  {
   "cell_type": "code",
   "execution_count": 245,
   "metadata": {},
   "outputs": [
    {
     "data": {
      "text/plain": [
       "[[-14.566561809785105, 'tenure'],\n",
       " [-8.34395288133322, 'Contract'],\n",
       " [-3.959842045378472, 'OnlineSecurity'],\n",
       " [-3.959842045378472, 'TechSupport'],\n",
       " [-3.535573254802211, 'MonthlyCharges'],\n",
       " [-2.2627668830734144, 'OnlineBackup'],\n",
       " [-1.979921022689236, 'InternetService'],\n",
       " [-1.4142293019208791, 'SeniorCitizen'],\n",
       " [-0.989960511344618, 'Dependents'],\n",
       " [-0.8485375811525222, 'DeviceProtection'],\n",
       " [-0.8485375811525222, 'MultipleLines'],\n",
       " [-0.8485375811525222, 'StreamingMovies'],\n",
       " [-0.7071146509604396, 'StreamingTV'],\n",
       " [-0.5656917207683436, 'Partner'],\n",
       " [-0.4242687905762611, 'PhoneService'],\n",
       " [-0.0, 'PaperlessBilling'],\n",
       " [-0.0, 'PaymentMethod'],\n",
       " [-0.0, 'TotalCharges'],\n",
       " [0.1414229301920959, 'gender']]"
      ]
     },
     "execution_count": 245,
     "metadata": {},
     "output_type": "execute_result"
    }
   ],
   "source": [
    "feature_imp"
   ]
  },
  {
   "cell_type": "code",
   "execution_count": 291,
   "metadata": {},
   "outputs": [],
   "source": [
    "def test_curr():\n",
    "    X_train, X_test, y_train, y_test = split_data(0.3)\n",
    "    return test_out_current_params(X_train, X_test, y_train, y_test, 100, 100, 10, 5)"
   ]
  },
  {
   "cell_type": "code",
   "execution_count": 371,
   "metadata": {},
   "outputs": [],
   "source": [
    "feature_accs = []\n",
    "X_feature_select = dataset[['tenure']]\n",
    "feature_accs.append(test_curr())\n",
    "X_feature_select = dataset[['tenure', 'Contract']]\n",
    "feature_accs.append(test_curr())\n",
    "X_feature_select = dataset[['tenure', 'Contract', 'MonthlyCharges']]\n",
    "feature_accs.append(test_curr())\n",
    "X_feature_select = dataset[['tenure', 'Contract', 'MonthlyCharges', 'OnlineSecurity']]\n",
    "feature_accs.append(test_curr())\n",
    "X_feature_select = dataset[['tenure', 'Contract', 'MonthlyCharges', 'OnlineSecurity', 'InternetService']]\n",
    "feature_accs.append(test_curr())\n",
    "X_feature_select = dataset[['tenure', 'Contract', 'MonthlyCharges', 'OnlineSecurity', 'InternetService', 'TechSupport']]\n",
    "feature_accs.append(test_curr())\n",
    "X_feature_select = dataset[['tenure', 'Contract', 'MonthlyCharges', 'OnlineSecurity', 'InternetService', 'TechSupport', 'SeniorCitizen']]\n",
    "feature_accs.append(test_curr())\n",
    "X_feature_select = dataset[['tenure', 'Contract', 'MonthlyCharges', 'OnlineSecurity', 'InternetService', 'TechSupport', 'SeniorCitizen', 'PaymentMethod']]\n",
    "feature_accs.append(test_curr())\n",
    "X_feature_select = dataset[['tenure', 'Contract', 'MonthlyCharges', 'OnlineSecurity', 'InternetService', 'TechSupport', 'SeniorCitizen', 'PaymentMethod', 'PaperlessBilling']]\n",
    "feature_accs.append(test_curr())\n",
    "X_feature_select = dataset[['tenure', 'Contract', 'MonthlyCharges', 'OnlineSecurity', 'InternetService', 'TechSupport', 'SeniorCitizen', 'PaymentMethod', 'PaperlessBilling', 'StreamingMovies']]\n",
    "feature_accs.append(test_curr())"
   ]
  },
  {
   "cell_type": "code",
   "execution_count": 373,
   "metadata": {},
   "outputs": [
    {
     "data": {
      "text/plain": [
       "[0.8058823529411765,\n",
       " 0.7943204868154158,\n",
       " 0.8054766734279918,\n",
       " 0.8052738336713997,\n",
       " 0.8004056795131845,\n",
       " 0.7977687626774849,\n",
       " 0.8006085192697769,\n",
       " 0.8038539553752535,\n",
       " 0.7977687626774849,\n",
       " 0.7977687626774849]"
      ]
     },
     "execution_count": 373,
     "metadata": {},
     "output_type": "execute_result"
    }
   ],
   "source": [
    "feature_accs"
   ]
  },
  {
   "cell_type": "code",
   "execution_count": 295,
   "metadata": {},
   "outputs": [
    {
     "data": {
      "text/plain": [
       "[<matplotlib.lines.Line2D at 0x8b57f30fd0>]"
      ]
     },
     "execution_count": 295,
     "metadata": {},
     "output_type": "execute_result"
    },
    {
     "data": {
      "image/png": "[encoded data removed]",
      "text/plain": [
       "<Figure size 432x288 with 1 Axes>"
      ]
     },
     "metadata": {
      "needs_background": "light"
     },
     "output_type": "display_data"
    }
   ],
   "source": [
    "plt.plot([1,2,3,4,5,6,7,8,9,10],feature_accs)"
   ]
  },
  {
   "cell_type": "code",
   "execution_count": 297,
   "metadata": {},
   "outputs": [],
   "source": [
    "X_feature_select = dataset[['tenure', 'Contract', 'MonthlyCharges', 'OnlineSecurity', 'InternetService']]"
   ]
  },
  {
   "cell_type": "code",
   "execution_count": 366,
   "metadata": {},
   "outputs": [],
   "source": [
    "def test_out_current_params_cm(X_train, X_test, y_train, y_test, tree_amount, max_leaf, max_dep, min_samples):\n",
    "    clf = RandomForestClassifier(n_estimators=tree_amount, max_depth=max_dep, min_samples_leaf=min_samples, max_leaf_nodes=max_leaf)\n",
    "    model = clf.fit(X_train, y_train)\n",
    "    average_precision = average_precision_score(y_test, clf.predict(X_test))\n",
    "    precision, recall, _ = precision_recall_curve(y_test, clf.predict(X_test))\n",
    "    step_kwargs = ({'step':'post'}\n",
    "            if 'step' in signature(plt.fill_between).parameters\n",
    "            else {})\n",
    "    plt.step(recall, precision, color='b', alpha=0.2, where='post')\n",
    "    plt.fill_between(recall, precision, alpha=0.2, color='b', **step_kwargs)\n",
    "    plt.xlabel('Recall')\n",
    "    plt.ylabel('Precision')\n",
    "    plt.ylim([0.0, 1.05])\n",
    "    plt.xlim([0.0, 1.0])\n",
    "    plt.title('2-class Precision-Recall curve: AP={0:0.2f}'.format(average_precision))\n",
    "    plt.show()\n",
    "    predictions = clf.predict(X_test)\n",
    "    probs = model.predict_proba(X_test)\n",
    "    probs = probs[:, 1]\n",
    "    aucc = roc_auc_score(y_test, probs)\n",
    "    print('AUC: %.3f' % aucc)\n",
    "    # calculate roc curve\n",
    "    fpr, tpr, thresholds = roc_curve(y_test, probs)\n",
    "    # plot no skill\n",
    "    plt.plot([0, 1], [0, 1], linestyle='--')\n",
    "    # plot the roc curve for the model\n",
    "    plt.plot(fpr, tpr, marker='.')\n",
    "    # show the plot\n",
    "    plt.show()\n",
    "    precision, recall, thresholds = precision_recall_curve(y_test, probs)\n",
    "    f1 = f1_score(y_test, predictions)\n",
    "    aucc = auc(recall, precision)\n",
    "    # calculate average precision score\n",
    "    ap = average_precision_score(y_test, probs)\n",
    "    # plot no skill\n",
    "    plt.plot([0, 1], [0.5, 0.5], linestyle='--')\n",
    "    # plot the roc curve for the model\n",
    "    plt.plot(recall, precision, marker='.')\n",
    "    # show the plot\n",
    "    plt.show()\n",
    "    print(confusion_matrix(y_test, clf.predict(X_test)))"
   ]
  },
  {
   "cell_type": "code",
   "execution_count": 367,
   "metadata": {},
   "outputs": [],
   "source": [
    "def test_curr_cm():\n",
    "    X_train, X_test, y_train, y_test = split_data(0.3)\n",
    "    test_out_current_params_cm(X_train, X_test, y_train, y_test, 100, 100, 10, 5)"
   ]
  },
  {
   "cell_type": "code",
   "execution_count": 368,
   "metadata": {},
   "outputs": [
    {
     "data": {
      "image/png": "[encoded data removed]",
      "text/plain": [
       "<Figure size 432x288 with 1 Axes>"
      ]
     },
     "metadata": {
      "needs_background": "light"
     },
     "output_type": "display_data"
    },
    {
     "name": "stdout",
     "output_type": "stream",
     "text": [
      "AUC: 0.839\n"
     ]
    },
    {
     "data": {
      "image/png": "[encoded data removed]",
      "text/plain": [
       "<Figure size 432x288 with 1 Axes>"
      ]
     },
     "metadata": {
      "needs_background": "light"
     },
     "output_type": "display_data"
    },
    {
     "data": {
      "image/png": "[encoded data removed]",
      "text/plain": [
       "<Figure size 432x288 with 1 Axes>"
      ]
     },
     "metadata": {
      "needs_background": "light"
     },
     "output_type": "display_data"
    },
    {
     "name": "stdout",
     "output_type": "stream",
     "text": [
      "[[1417  130]\n",
      " [ 296  270]]\n"
     ]
    }
   ],
   "source": [
    "test_curr_cm()"
   ]
  },
  {
   "cell_type": "code",
   "execution_count": null,
   "metadata": {},
   "outputs": [],
   "source": [
    "FPR = 165\n",
    "TPR = 331"
   ]
  },
  {
   "cell_type": "code",
   "execution_count": 310,
   "metadata": {},
   "outputs": [],
   "source": [
    "feature_imp = []\n",
    "scores = []\n",
    "for i in range(len(score_values)):\n",
    "    feature_imp.append([score_values[i][0] , feature_names[i]])\n",
    "for i in range(len(score_values)):\n",
    "    scores.append(score_values[i][0])"
   ]
  },
  {
   "cell_type": "code",
   "execution_count": 314,
   "metadata": {},
   "outputs": [
    {
     "ename": "ValueError",
     "evalue": "Found input variables with inconsistent numbers of samples: [2113, 19]",
     "output_type": "error",
     "traceback": [
      "\u001b[1;31m---------------------------------------------------------------------------\u001b[0m",
      "\u001b[1;31mValueError\u001b[0m                                Traceback (most recent call last)",
      "\u001b[1;32m<ipython-input-314-7ec0ea81fb24>\u001b[0m in \u001b[0;36m<module>\u001b[1;34m()\u001b[0m\n\u001b[1;32m----> 1\u001b[1;33m \u001b[0mfpr\u001b[0m\u001b[1;33m,\u001b[0m \u001b[0mtpr\u001b[0m\u001b[1;33m,\u001b[0m \u001b[0mthreshholds\u001b[0m \u001b[1;33m=\u001b[0m \u001b[0mmetrics\u001b[0m\u001b[1;33m.\u001b[0m\u001b[0mroc_curve\u001b[0m\u001b[1;33m(\u001b[0m\u001b[0my_test\u001b[0m\u001b[1;33m,\u001b[0m \u001b[0mscores\u001b[0m\u001b[1;33m)\u001b[0m\u001b[1;33m\u001b[0m\u001b[0m\n\u001b[0m",
      "\u001b[1;32m~\\Anaconda\\lib\\site-packages\\sklearn\\metrics\\ranking.py\u001b[0m in \u001b[0;36mroc_curve\u001b[1;34m(y_true, y_score, pos_label, sample_weight, drop_intermediate)\u001b[0m\n\u001b[0;32m    532\u001b[0m     \"\"\"\n\u001b[0;32m    533\u001b[0m     fps, tps, thresholds = _binary_clf_curve(\n\u001b[1;32m--> 534\u001b[1;33m         y_true, y_score, pos_label=pos_label, sample_weight=sample_weight)\n\u001b[0m\u001b[0;32m    535\u001b[0m \u001b[1;33m\u001b[0m\u001b[0m\n\u001b[0;32m    536\u001b[0m     \u001b[1;31m# Attempt to drop thresholds corresponding to points in between and\u001b[0m\u001b[1;33m\u001b[0m\u001b[1;33m\u001b[0m\u001b[0m\n",
      "\u001b[1;32m~\\Anaconda\\lib\\site-packages\\sklearn\\metrics\\ranking.py\u001b[0m in \u001b[0;36m_binary_clf_curve\u001b[1;34m(y_true, y_score, pos_label, sample_weight)\u001b[0m\n\u001b[0;32m    318\u001b[0m         \u001b[1;32mraise\u001b[0m \u001b[0mValueError\u001b[0m\u001b[1;33m(\u001b[0m\u001b[1;34m\"{0} format is not supported\"\u001b[0m\u001b[1;33m.\u001b[0m\u001b[0mformat\u001b[0m\u001b[1;33m(\u001b[0m\u001b[0my_type\u001b[0m\u001b[1;33m)\u001b[0m\u001b[1;33m)\u001b[0m\u001b[1;33m\u001b[0m\u001b[0m\n\u001b[0;32m    319\u001b[0m \u001b[1;33m\u001b[0m\u001b[0m\n\u001b[1;32m--> 320\u001b[1;33m     \u001b[0mcheck_consistent_length\u001b[0m\u001b[1;33m(\u001b[0m\u001b[0my_true\u001b[0m\u001b[1;33m,\u001b[0m \u001b[0my_score\u001b[0m\u001b[1;33m,\u001b[0m \u001b[0msample_weight\u001b[0m\u001b[1;33m)\u001b[0m\u001b[1;33m\u001b[0m\u001b[0m\n\u001b[0m\u001b[0;32m    321\u001b[0m     \u001b[0my_true\u001b[0m \u001b[1;33m=\u001b[0m \u001b[0mcolumn_or_1d\u001b[0m\u001b[1;33m(\u001b[0m\u001b[0my_true\u001b[0m\u001b[1;33m)\u001b[0m\u001b[1;33m\u001b[0m\u001b[0m\n\u001b[0;32m    322\u001b[0m     \u001b[0my_score\u001b[0m \u001b[1;33m=\u001b[0m \u001b[0mcolumn_or_1d\u001b[0m\u001b[1;33m(\u001b[0m\u001b[0my_score\u001b[0m\u001b[1;33m)\u001b[0m\u001b[1;33m\u001b[0m\u001b[0m\n",
      "\u001b[1;32m~\\Anaconda\\lib\\site-packages\\sklearn\\utils\\validation.py\u001b[0m in \u001b[0;36mcheck_consistent_length\u001b[1;34m(*arrays)\u001b[0m\n\u001b[0;32m    202\u001b[0m     \u001b[1;32mif\u001b[0m \u001b[0mlen\u001b[0m\u001b[1;33m(\u001b[0m\u001b[0muniques\u001b[0m\u001b[1;33m)\u001b[0m \u001b[1;33m>\u001b[0m \u001b[1;36m1\u001b[0m\u001b[1;33m:\u001b[0m\u001b[1;33m\u001b[0m\u001b[0m\n\u001b[0;32m    203\u001b[0m         raise ValueError(\"Found input variables with inconsistent numbers of\"\n\u001b[1;32m--> 204\u001b[1;33m                          \" samples: %r\" % [int(l) for l in lengths])\n\u001b[0m\u001b[0;32m    205\u001b[0m \u001b[1;33m\u001b[0m\u001b[0m\n\u001b[0;32m    206\u001b[0m \u001b[1;33m\u001b[0m\u001b[0m\n",
      "\u001b[1;31mValueError\u001b[0m: Found input variables with inconsistent numbers of samples: [2113, 19]"
     ]
    }
   ],
   "source": [
    "fpr, tpr, threshholds = metrics.roc_curve(y_test, scores)"
   ]
  },
  {
   "cell_type": "code",
   "execution_count": 315,
   "metadata": {},
   "outputs": [
    {
     "data": {
      "text/plain": [
       "2113"
      ]
     },
     "execution_count": 315,
     "metadata": {},
     "output_type": "execute_result"
    }
   ],
   "source": [
    "len(y_test)"
   ]
  },
  {
   "cell_type": "code",
   "execution_count": null,
   "metadata": {},
   "outputs": [],
   "source": []
  }
 ],
 "metadata": {
  "kernelspec": {
   "display_name": "Python 3",
   "language": "python",
   "name": "python3"
  },
  "language_info": {
   "codemirror_mode": {
    "name": "ipython",
    "version": 3
   },
   "file_extension": ".py",
   "mimetype": "text/x-python",
   "name": "python",
   "nbconvert_exporter": "python",
   "pygments_lexer": "ipython3",
   "version": "3.7.0"
  }
 },
 "nbformat": 4,
 "nbformat_minor": 2
}
